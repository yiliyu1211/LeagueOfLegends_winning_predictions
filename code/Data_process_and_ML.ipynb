{
 "cells": [
  {
   "cell_type": "code",
   "execution_count": 94,
   "metadata": {},
   "outputs": [],
   "source": [
    "import pandas as pd\n",
    "import numpy as np\n",
    "from pandas.io.json import json_normalize\n",
    "import matplotlib.pyplot as plt\n",
    "from sklearn.preprocessing import OneHotEncoder\n",
    "from sklearn.preprocessing import LabelEncoder\n",
    "from sklearn.svm import LinearSVC\n",
    "from sklearn.feature_selection import SelectFromModel\n",
    "from sklearn.neighbors import KNeighborsClassifier\n",
    "from sklearn.ensemble import RandomForestClassifier\n",
    "from sklearn.preprocessing import StandardScaler\n",
    "from sklearn.metrics import roc_curve\n",
    "from sklearn.model_selection import cross_val_score, train_test_split, KFold, StratifiedKFold\n",
    "from sklearn.model_selection import GridSearchCV\n",
    "from sklearn.model_selection import RandomizedSearchCV\n",
    "from sklearn.metrics import roc_curve, auc, roc_auc_score, f1_score, accuracy_score, classification_report\n",
    "import scikitplot as skplt\n",
    "from tensorflow import keras\n",
    "from tensorflow.keras import layers\n",
    "from kerastuner.tuners import RandomSearch\n",
    "from keras.wrappers.scikit_learn import KerasRegressor\n",
    "from kerastuner.engine.hyperparameters import HyperParameters\n",
    "from keras import backend as K\n",
    "from keras.optimizers import Adam, SGD\n",
    "from keras.metrics import AUC\n",
    "import tensorflow"
   ]
  },
  {
   "cell_type": "markdown",
   "metadata": {},
   "source": [
    "# Data pre-process and EDA"
   ]
  },
  {
   "cell_type": "code",
   "execution_count": 2,
   "metadata": {},
   "outputs": [],
   "source": [
    "# read games data\n",
    "games = pd.read_csv('games.csv')"
   ]
  },
  {
   "cell_type": "code",
   "execution_count": 3,
   "metadata": {},
   "outputs": [
    {
     "data": {
      "text/plain": [
       "Index(['gameId', 'creationTime', 'gameDuration', 'seasonId', 'winner',\n",
       "       'firstBlood', 'firstTower', 'firstInhibitor', 'firstBaron',\n",
       "       'firstDragon', 'firstRiftHerald', 't1_champ1id', 't1_champ1_sum1',\n",
       "       't1_champ1_sum2', 't1_champ2id', 't1_champ2_sum1', 't1_champ2_sum2',\n",
       "       't1_champ3id', 't1_champ3_sum1', 't1_champ3_sum2', 't1_champ4id',\n",
       "       't1_champ4_sum1', 't1_champ4_sum2', 't1_champ5id', 't1_champ5_sum1',\n",
       "       't1_champ5_sum2', 't1_towerKills', 't1_inhibitorKills', 't1_baronKills',\n",
       "       't1_dragonKills', 't1_riftHeraldKills', 't1_ban1', 't1_ban2', 't1_ban3',\n",
       "       't1_ban4', 't1_ban5', 't2_champ1id', 't2_champ1_sum1', 't2_champ1_sum2',\n",
       "       't2_champ2id', 't2_champ2_sum1', 't2_champ2_sum2', 't2_champ3id',\n",
       "       't2_champ3_sum1', 't2_champ3_sum2', 't2_champ4id', 't2_champ4_sum1',\n",
       "       't2_champ4_sum2', 't2_champ5id', 't2_champ5_sum1', 't2_champ5_sum2',\n",
       "       't2_towerKills', 't2_inhibitorKills', 't2_baronKills', 't2_dragonKills',\n",
       "       't2_riftHeraldKills', 't2_ban1', 't2_ban2', 't2_ban3', 't2_ban4',\n",
       "       't2_ban5'],\n",
       "      dtype='object')"
      ]
     },
     "execution_count": 3,
     "metadata": {},
     "output_type": "execute_result"
    }
   ],
   "source": [
    "games.columns"
   ]
  },
  {
   "cell_type": "code",
   "execution_count": 4,
   "metadata": {},
   "outputs": [
    {
     "data": {
      "text/html": [
       "<div>\n",
       "<style scoped>\n",
       "    .dataframe tbody tr th:only-of-type {\n",
       "        vertical-align: middle;\n",
       "    }\n",
       "\n",
       "    .dataframe tbody tr th {\n",
       "        vertical-align: top;\n",
       "    }\n",
       "\n",
       "    .dataframe thead th {\n",
       "        text-align: right;\n",
       "    }\n",
       "</style>\n",
       "<table border=\"1\" class=\"dataframe\">\n",
       "  <thead>\n",
       "    <tr style=\"text-align: right;\">\n",
       "      <th></th>\n",
       "      <th>gameId</th>\n",
       "      <th>creationTime</th>\n",
       "      <th>gameDuration</th>\n",
       "      <th>seasonId</th>\n",
       "      <th>winner</th>\n",
       "      <th>firstBlood</th>\n",
       "      <th>firstTower</th>\n",
       "      <th>firstInhibitor</th>\n",
       "      <th>firstBaron</th>\n",
       "      <th>firstDragon</th>\n",
       "      <th>...</th>\n",
       "      <th>t2_towerKills</th>\n",
       "      <th>t2_inhibitorKills</th>\n",
       "      <th>t2_baronKills</th>\n",
       "      <th>t2_dragonKills</th>\n",
       "      <th>t2_riftHeraldKills</th>\n",
       "      <th>t2_ban1</th>\n",
       "      <th>t2_ban2</th>\n",
       "      <th>t2_ban3</th>\n",
       "      <th>t2_ban4</th>\n",
       "      <th>t2_ban5</th>\n",
       "    </tr>\n",
       "  </thead>\n",
       "  <tbody>\n",
       "    <tr>\n",
       "      <td>0</td>\n",
       "      <td>3326086514</td>\n",
       "      <td>1504279457970</td>\n",
       "      <td>1949</td>\n",
       "      <td>9</td>\n",
       "      <td>1</td>\n",
       "      <td>2</td>\n",
       "      <td>1</td>\n",
       "      <td>1</td>\n",
       "      <td>1</td>\n",
       "      <td>1</td>\n",
       "      <td>...</td>\n",
       "      <td>5</td>\n",
       "      <td>0</td>\n",
       "      <td>0</td>\n",
       "      <td>1</td>\n",
       "      <td>1</td>\n",
       "      <td>114</td>\n",
       "      <td>67</td>\n",
       "      <td>43</td>\n",
       "      <td>16</td>\n",
       "      <td>51</td>\n",
       "    </tr>\n",
       "    <tr>\n",
       "      <td>1</td>\n",
       "      <td>3229566029</td>\n",
       "      <td>1497848803862</td>\n",
       "      <td>1851</td>\n",
       "      <td>9</td>\n",
       "      <td>1</td>\n",
       "      <td>1</td>\n",
       "      <td>1</td>\n",
       "      <td>1</td>\n",
       "      <td>0</td>\n",
       "      <td>1</td>\n",
       "      <td>...</td>\n",
       "      <td>2</td>\n",
       "      <td>0</td>\n",
       "      <td>0</td>\n",
       "      <td>0</td>\n",
       "      <td>0</td>\n",
       "      <td>11</td>\n",
       "      <td>67</td>\n",
       "      <td>238</td>\n",
       "      <td>51</td>\n",
       "      <td>420</td>\n",
       "    </tr>\n",
       "    <tr>\n",
       "      <td>2</td>\n",
       "      <td>3327363504</td>\n",
       "      <td>1504360103310</td>\n",
       "      <td>1493</td>\n",
       "      <td>9</td>\n",
       "      <td>1</td>\n",
       "      <td>2</td>\n",
       "      <td>1</td>\n",
       "      <td>1</td>\n",
       "      <td>1</td>\n",
       "      <td>2</td>\n",
       "      <td>...</td>\n",
       "      <td>2</td>\n",
       "      <td>0</td>\n",
       "      <td>0</td>\n",
       "      <td>1</td>\n",
       "      <td>0</td>\n",
       "      <td>157</td>\n",
       "      <td>238</td>\n",
       "      <td>121</td>\n",
       "      <td>57</td>\n",
       "      <td>28</td>\n",
       "    </tr>\n",
       "    <tr>\n",
       "      <td>3</td>\n",
       "      <td>3326856598</td>\n",
       "      <td>1504348503996</td>\n",
       "      <td>1758</td>\n",
       "      <td>9</td>\n",
       "      <td>1</td>\n",
       "      <td>1</td>\n",
       "      <td>1</td>\n",
       "      <td>1</td>\n",
       "      <td>1</td>\n",
       "      <td>1</td>\n",
       "      <td>...</td>\n",
       "      <td>0</td>\n",
       "      <td>0</td>\n",
       "      <td>0</td>\n",
       "      <td>0</td>\n",
       "      <td>0</td>\n",
       "      <td>164</td>\n",
       "      <td>18</td>\n",
       "      <td>141</td>\n",
       "      <td>40</td>\n",
       "      <td>51</td>\n",
       "    </tr>\n",
       "    <tr>\n",
       "      <td>4</td>\n",
       "      <td>3330080762</td>\n",
       "      <td>1504554410899</td>\n",
       "      <td>2094</td>\n",
       "      <td>9</td>\n",
       "      <td>1</td>\n",
       "      <td>2</td>\n",
       "      <td>1</td>\n",
       "      <td>1</td>\n",
       "      <td>1</td>\n",
       "      <td>1</td>\n",
       "      <td>...</td>\n",
       "      <td>3</td>\n",
       "      <td>0</td>\n",
       "      <td>0</td>\n",
       "      <td>1</td>\n",
       "      <td>0</td>\n",
       "      <td>86</td>\n",
       "      <td>11</td>\n",
       "      <td>201</td>\n",
       "      <td>122</td>\n",
       "      <td>18</td>\n",
       "    </tr>\n",
       "  </tbody>\n",
       "</table>\n",
       "<p>5 rows × 61 columns</p>\n",
       "</div>"
      ],
      "text/plain": [
       "       gameId   creationTime  gameDuration  seasonId  winner  firstBlood  \\\n",
       "0  3326086514  1504279457970          1949         9       1           2   \n",
       "1  3229566029  1497848803862          1851         9       1           1   \n",
       "2  3327363504  1504360103310          1493         9       1           2   \n",
       "3  3326856598  1504348503996          1758         9       1           1   \n",
       "4  3330080762  1504554410899          2094         9       1           2   \n",
       "\n",
       "   firstTower  firstInhibitor  firstBaron  firstDragon  ...  t2_towerKills  \\\n",
       "0           1               1           1            1  ...              5   \n",
       "1           1               1           0            1  ...              2   \n",
       "2           1               1           1            2  ...              2   \n",
       "3           1               1           1            1  ...              0   \n",
       "4           1               1           1            1  ...              3   \n",
       "\n",
       "   t2_inhibitorKills  t2_baronKills  t2_dragonKills  t2_riftHeraldKills  \\\n",
       "0                  0              0               1                   1   \n",
       "1                  0              0               0                   0   \n",
       "2                  0              0               1                   0   \n",
       "3                  0              0               0                   0   \n",
       "4                  0              0               1                   0   \n",
       "\n",
       "   t2_ban1  t2_ban2  t2_ban3  t2_ban4  t2_ban5  \n",
       "0      114       67       43       16       51  \n",
       "1       11       67      238       51      420  \n",
       "2      157      238      121       57       28  \n",
       "3      164       18      141       40       51  \n",
       "4       86       11      201      122       18  \n",
       "\n",
       "[5 rows x 61 columns]"
      ]
     },
     "execution_count": 4,
     "metadata": {},
     "output_type": "execute_result"
    }
   ],
   "source": [
    "games.head()"
   ]
  },
  {
   "cell_type": "code",
   "execution_count": 5,
   "metadata": {},
   "outputs": [],
   "source": [
    "# drop useless columns\n",
    "\n",
    "games.drop(columns=['t1_ban1', 't1_ban2', 't1_ban3', 't1_ban4', 't1_ban5', \n",
    "                    't2_ban1', 't2_ban2', 't2_ban3', 't2_ban4','t2_ban5',\n",
    "                    'creationTime', 'seasonId', 'gameId', 'creationTime'], inplace=True)"
   ]
  },
  {
   "cell_type": "code",
   "execution_count": 6,
   "metadata": {},
   "outputs": [],
   "source": [
    "# set team id to color\n",
    "def team_to_color(x):\n",
    "    if x == 1:\n",
    "        return 'b'\n",
    "    elif x == 2:\n",
    "        return 'r'\n",
    "    else:\n",
    "        return np.NaN\n",
    "\n",
    "\n",
    "games['winner'] = games['winner'].apply(team_to_color)\n",
    "games['firstBlood'] = games['firstBlood'].apply(team_to_color)\n",
    "games['firstTower'] = games['firstTower'].apply(team_to_color)\n",
    "games['firstInhibitor'] = games['firstInhibitor'].apply(team_to_color)\n",
    "games['firstBaron'] = games['firstBaron'].apply(team_to_color)\n",
    "games['firstDragon'] = games['firstDragon'].apply(team_to_color)\n",
    "games['firstRiftHerald'] = games['firstRiftHerald'].apply(team_to_color)"
   ]
  },
  {
   "cell_type": "code",
   "execution_count": 7,
   "metadata": {},
   "outputs": [
    {
     "data": {
      "text/html": [
       "<div>\n",
       "<style scoped>\n",
       "    .dataframe tbody tr th:only-of-type {\n",
       "        vertical-align: middle;\n",
       "    }\n",
       "\n",
       "    .dataframe tbody tr th {\n",
       "        vertical-align: top;\n",
       "    }\n",
       "\n",
       "    .dataframe thead th {\n",
       "        text-align: right;\n",
       "    }\n",
       "</style>\n",
       "<table border=\"1\" class=\"dataframe\">\n",
       "  <thead>\n",
       "    <tr style=\"text-align: right;\">\n",
       "      <th></th>\n",
       "      <th>gameDuration</th>\n",
       "      <th>winner</th>\n",
       "      <th>firstBlood</th>\n",
       "      <th>firstTower</th>\n",
       "      <th>firstInhibitor</th>\n",
       "      <th>firstBaron</th>\n",
       "      <th>firstDragon</th>\n",
       "      <th>firstRiftHerald</th>\n",
       "      <th>t1_champ1id</th>\n",
       "      <th>t1_champ1_sum1</th>\n",
       "      <th>...</th>\n",
       "      <th>t2_champ4_sum1</th>\n",
       "      <th>t2_champ4_sum2</th>\n",
       "      <th>t2_champ5id</th>\n",
       "      <th>t2_champ5_sum1</th>\n",
       "      <th>t2_champ5_sum2</th>\n",
       "      <th>t2_towerKills</th>\n",
       "      <th>t2_inhibitorKills</th>\n",
       "      <th>t2_baronKills</th>\n",
       "      <th>t2_dragonKills</th>\n",
       "      <th>t2_riftHeraldKills</th>\n",
       "    </tr>\n",
       "  </thead>\n",
       "  <tbody>\n",
       "    <tr>\n",
       "      <td>0</td>\n",
       "      <td>1949</td>\n",
       "      <td>b</td>\n",
       "      <td>r</td>\n",
       "      <td>b</td>\n",
       "      <td>b</td>\n",
       "      <td>b</td>\n",
       "      <td>b</td>\n",
       "      <td>r</td>\n",
       "      <td>8</td>\n",
       "      <td>12</td>\n",
       "      <td>...</td>\n",
       "      <td>14</td>\n",
       "      <td>4</td>\n",
       "      <td>412</td>\n",
       "      <td>4</td>\n",
       "      <td>3</td>\n",
       "      <td>5</td>\n",
       "      <td>0</td>\n",
       "      <td>0</td>\n",
       "      <td>1</td>\n",
       "      <td>1</td>\n",
       "    </tr>\n",
       "    <tr>\n",
       "      <td>1</td>\n",
       "      <td>1851</td>\n",
       "      <td>b</td>\n",
       "      <td>b</td>\n",
       "      <td>b</td>\n",
       "      <td>b</td>\n",
       "      <td>NaN</td>\n",
       "      <td>b</td>\n",
       "      <td>b</td>\n",
       "      <td>119</td>\n",
       "      <td>7</td>\n",
       "      <td>...</td>\n",
       "      <td>4</td>\n",
       "      <td>14</td>\n",
       "      <td>92</td>\n",
       "      <td>4</td>\n",
       "      <td>7</td>\n",
       "      <td>2</td>\n",
       "      <td>0</td>\n",
       "      <td>0</td>\n",
       "      <td>0</td>\n",
       "      <td>0</td>\n",
       "    </tr>\n",
       "    <tr>\n",
       "      <td>2</td>\n",
       "      <td>1493</td>\n",
       "      <td>b</td>\n",
       "      <td>r</td>\n",
       "      <td>b</td>\n",
       "      <td>b</td>\n",
       "      <td>b</td>\n",
       "      <td>r</td>\n",
       "      <td>NaN</td>\n",
       "      <td>18</td>\n",
       "      <td>4</td>\n",
       "      <td>...</td>\n",
       "      <td>4</td>\n",
       "      <td>11</td>\n",
       "      <td>22</td>\n",
       "      <td>7</td>\n",
       "      <td>4</td>\n",
       "      <td>2</td>\n",
       "      <td>0</td>\n",
       "      <td>0</td>\n",
       "      <td>1</td>\n",
       "      <td>0</td>\n",
       "    </tr>\n",
       "    <tr>\n",
       "      <td>3</td>\n",
       "      <td>1758</td>\n",
       "      <td>b</td>\n",
       "      <td>b</td>\n",
       "      <td>b</td>\n",
       "      <td>b</td>\n",
       "      <td>b</td>\n",
       "      <td>b</td>\n",
       "      <td>NaN</td>\n",
       "      <td>57</td>\n",
       "      <td>4</td>\n",
       "      <td>...</td>\n",
       "      <td>4</td>\n",
       "      <td>14</td>\n",
       "      <td>22</td>\n",
       "      <td>4</td>\n",
       "      <td>7</td>\n",
       "      <td>0</td>\n",
       "      <td>0</td>\n",
       "      <td>0</td>\n",
       "      <td>0</td>\n",
       "      <td>0</td>\n",
       "    </tr>\n",
       "    <tr>\n",
       "      <td>4</td>\n",
       "      <td>2094</td>\n",
       "      <td>b</td>\n",
       "      <td>r</td>\n",
       "      <td>b</td>\n",
       "      <td>b</td>\n",
       "      <td>b</td>\n",
       "      <td>b</td>\n",
       "      <td>NaN</td>\n",
       "      <td>19</td>\n",
       "      <td>4</td>\n",
       "      <td>...</td>\n",
       "      <td>4</td>\n",
       "      <td>12</td>\n",
       "      <td>51</td>\n",
       "      <td>4</td>\n",
       "      <td>7</td>\n",
       "      <td>3</td>\n",
       "      <td>0</td>\n",
       "      <td>0</td>\n",
       "      <td>1</td>\n",
       "      <td>0</td>\n",
       "    </tr>\n",
       "    <tr>\n",
       "      <td>...</td>\n",
       "      <td>...</td>\n",
       "      <td>...</td>\n",
       "      <td>...</td>\n",
       "      <td>...</td>\n",
       "      <td>...</td>\n",
       "      <td>...</td>\n",
       "      <td>...</td>\n",
       "      <td>...</td>\n",
       "      <td>...</td>\n",
       "      <td>...</td>\n",
       "      <td>...</td>\n",
       "      <td>...</td>\n",
       "      <td>...</td>\n",
       "      <td>...</td>\n",
       "      <td>...</td>\n",
       "      <td>...</td>\n",
       "      <td>...</td>\n",
       "      <td>...</td>\n",
       "      <td>...</td>\n",
       "      <td>...</td>\n",
       "      <td>...</td>\n",
       "    </tr>\n",
       "    <tr>\n",
       "      <td>51485</td>\n",
       "      <td>1944</td>\n",
       "      <td>r</td>\n",
       "      <td>b</td>\n",
       "      <td>r</td>\n",
       "      <td>r</td>\n",
       "      <td>NaN</td>\n",
       "      <td>r</td>\n",
       "      <td>NaN</td>\n",
       "      <td>19</td>\n",
       "      <td>12</td>\n",
       "      <td>...</td>\n",
       "      <td>3</td>\n",
       "      <td>4</td>\n",
       "      <td>79</td>\n",
       "      <td>11</td>\n",
       "      <td>4</td>\n",
       "      <td>10</td>\n",
       "      <td>2</td>\n",
       "      <td>0</td>\n",
       "      <td>4</td>\n",
       "      <td>0</td>\n",
       "    </tr>\n",
       "    <tr>\n",
       "      <td>51486</td>\n",
       "      <td>3304</td>\n",
       "      <td>r</td>\n",
       "      <td>b</td>\n",
       "      <td>b</td>\n",
       "      <td>r</td>\n",
       "      <td>r</td>\n",
       "      <td>r</td>\n",
       "      <td>r</td>\n",
       "      <td>90</td>\n",
       "      <td>4</td>\n",
       "      <td>...</td>\n",
       "      <td>4</td>\n",
       "      <td>12</td>\n",
       "      <td>45</td>\n",
       "      <td>14</td>\n",
       "      <td>4</td>\n",
       "      <td>11</td>\n",
       "      <td>7</td>\n",
       "      <td>4</td>\n",
       "      <td>4</td>\n",
       "      <td>1</td>\n",
       "    </tr>\n",
       "    <tr>\n",
       "      <td>51487</td>\n",
       "      <td>2156</td>\n",
       "      <td>r</td>\n",
       "      <td>r</td>\n",
       "      <td>r</td>\n",
       "      <td>r</td>\n",
       "      <td>NaN</td>\n",
       "      <td>b</td>\n",
       "      <td>NaN</td>\n",
       "      <td>141</td>\n",
       "      <td>11</td>\n",
       "      <td>...</td>\n",
       "      <td>12</td>\n",
       "      <td>4</td>\n",
       "      <td>99</td>\n",
       "      <td>14</td>\n",
       "      <td>4</td>\n",
       "      <td>10</td>\n",
       "      <td>2</td>\n",
       "      <td>0</td>\n",
       "      <td>2</td>\n",
       "      <td>0</td>\n",
       "    </tr>\n",
       "    <tr>\n",
       "      <td>51488</td>\n",
       "      <td>1475</td>\n",
       "      <td>r</td>\n",
       "      <td>r</td>\n",
       "      <td>r</td>\n",
       "      <td>r</td>\n",
       "      <td>NaN</td>\n",
       "      <td>r</td>\n",
       "      <td>NaN</td>\n",
       "      <td>121</td>\n",
       "      <td>11</td>\n",
       "      <td>...</td>\n",
       "      <td>12</td>\n",
       "      <td>4</td>\n",
       "      <td>11</td>\n",
       "      <td>11</td>\n",
       "      <td>4</td>\n",
       "      <td>11</td>\n",
       "      <td>3</td>\n",
       "      <td>0</td>\n",
       "      <td>1</td>\n",
       "      <td>0</td>\n",
       "    </tr>\n",
       "    <tr>\n",
       "      <td>51489</td>\n",
       "      <td>1445</td>\n",
       "      <td>b</td>\n",
       "      <td>b</td>\n",
       "      <td>b</td>\n",
       "      <td>b</td>\n",
       "      <td>b</td>\n",
       "      <td>r</td>\n",
       "      <td>NaN</td>\n",
       "      <td>89</td>\n",
       "      <td>3</td>\n",
       "      <td>...</td>\n",
       "      <td>11</td>\n",
       "      <td>4</td>\n",
       "      <td>58</td>\n",
       "      <td>12</td>\n",
       "      <td>4</td>\n",
       "      <td>1</td>\n",
       "      <td>0</td>\n",
       "      <td>0</td>\n",
       "      <td>1</td>\n",
       "      <td>0</td>\n",
       "    </tr>\n",
       "  </tbody>\n",
       "</table>\n",
       "<p>51490 rows × 48 columns</p>\n",
       "</div>"
      ],
      "text/plain": [
       "       gameDuration winner firstBlood firstTower firstInhibitor firstBaron  \\\n",
       "0              1949      b          r          b              b          b   \n",
       "1              1851      b          b          b              b        NaN   \n",
       "2              1493      b          r          b              b          b   \n",
       "3              1758      b          b          b              b          b   \n",
       "4              2094      b          r          b              b          b   \n",
       "...             ...    ...        ...        ...            ...        ...   \n",
       "51485          1944      r          b          r              r        NaN   \n",
       "51486          3304      r          b          b              r          r   \n",
       "51487          2156      r          r          r              r        NaN   \n",
       "51488          1475      r          r          r              r        NaN   \n",
       "51489          1445      b          b          b              b          b   \n",
       "\n",
       "      firstDragon firstRiftHerald  t1_champ1id  t1_champ1_sum1  ...  \\\n",
       "0               b               r            8              12  ...   \n",
       "1               b               b          119               7  ...   \n",
       "2               r             NaN           18               4  ...   \n",
       "3               b             NaN           57               4  ...   \n",
       "4               b             NaN           19               4  ...   \n",
       "...           ...             ...          ...             ...  ...   \n",
       "51485           r             NaN           19              12  ...   \n",
       "51486           r               r           90               4  ...   \n",
       "51487           b             NaN          141              11  ...   \n",
       "51488           r             NaN          121              11  ...   \n",
       "51489           r             NaN           89               3  ...   \n",
       "\n",
       "       t2_champ4_sum1  t2_champ4_sum2  t2_champ5id  t2_champ5_sum1  \\\n",
       "0                  14               4          412               4   \n",
       "1                   4              14           92               4   \n",
       "2                   4              11           22               7   \n",
       "3                   4              14           22               4   \n",
       "4                   4              12           51               4   \n",
       "...               ...             ...          ...             ...   \n",
       "51485               3               4           79              11   \n",
       "51486               4              12           45              14   \n",
       "51487              12               4           99              14   \n",
       "51488              12               4           11              11   \n",
       "51489              11               4           58              12   \n",
       "\n",
       "       t2_champ5_sum2  t2_towerKills  t2_inhibitorKills  t2_baronKills  \\\n",
       "0                   3              5                  0              0   \n",
       "1                   7              2                  0              0   \n",
       "2                   4              2                  0              0   \n",
       "3                   7              0                  0              0   \n",
       "4                   7              3                  0              0   \n",
       "...               ...            ...                ...            ...   \n",
       "51485               4             10                  2              0   \n",
       "51486               4             11                  7              4   \n",
       "51487               4             10                  2              0   \n",
       "51488               4             11                  3              0   \n",
       "51489               4              1                  0              0   \n",
       "\n",
       "       t2_dragonKills  t2_riftHeraldKills  \n",
       "0                   1                   1  \n",
       "1                   0                   0  \n",
       "2                   1                   0  \n",
       "3                   0                   0  \n",
       "4                   1                   0  \n",
       "...               ...                 ...  \n",
       "51485               4                   0  \n",
       "51486               4                   1  \n",
       "51487               2                   0  \n",
       "51488               1                   0  \n",
       "51489               1                   0  \n",
       "\n",
       "[51490 rows x 48 columns]"
      ]
     },
     "execution_count": 7,
     "metadata": {},
     "output_type": "execute_result"
    }
   ],
   "source": [
    "games"
   ]
  },
  {
   "cell_type": "code",
   "execution_count": 8,
   "metadata": {},
   "outputs": [],
   "source": [
    "# read champ data\n",
    "\n",
    "champ1 = pd.read_json('champion_info.json')\n",
    "champ2 = pd.read_json('champion_info_2.json')\n",
    "\n",
    "\n",
    "champ1 = json_normalize(champ1.data)\n",
    "champ2 = json_normalize(champ2.data)"
   ]
  },
  {
   "cell_type": "code",
   "execution_count": 9,
   "metadata": {},
   "outputs": [],
   "source": [
    "# drop columns and merge\n",
    "champ1.drop(columns = ['title', 'key'], inplace=True)\n",
    "champ2.drop(columns = ['title', 'key', 'name'], inplace=True)\n",
    "champ = champ1.merge(champ2, on='id')"
   ]
  },
  {
   "cell_type": "code",
   "execution_count": 11,
   "metadata": {},
   "outputs": [],
   "source": [
    "# clean up tags of champ\n",
    "\n",
    "champ[['tag1','tag2']] = champ['tags'].apply(','.join).str.split(',', expand=True)\n",
    "champ.drop(columns=['tags'], inplace=True)\n",
    "champ.replace({'tag2':None}, np.NaN, inplace=True)"
   ]
  },
  {
   "cell_type": "code",
   "execution_count": 12,
   "metadata": {},
   "outputs": [],
   "source": [
    "# set index\n",
    "champ.set_index('id', inplace=True)"
   ]
  },
  {
   "cell_type": "code",
   "execution_count": 126,
   "metadata": {},
   "outputs": [
    {
     "data": {
      "text/html": [
       "<div>\n",
       "<style scoped>\n",
       "    .dataframe tbody tr th:only-of-type {\n",
       "        vertical-align: middle;\n",
       "    }\n",
       "\n",
       "    .dataframe tbody tr th {\n",
       "        vertical-align: top;\n",
       "    }\n",
       "\n",
       "    .dataframe thead th {\n",
       "        text-align: right;\n",
       "    }\n",
       "</style>\n",
       "<table border=\"1\" class=\"dataframe\">\n",
       "  <thead>\n",
       "    <tr style=\"text-align: right;\">\n",
       "      <th></th>\n",
       "      <th>name</th>\n",
       "      <th>tag1</th>\n",
       "      <th>tag2</th>\n",
       "    </tr>\n",
       "    <tr>\n",
       "      <th>id</th>\n",
       "      <th></th>\n",
       "      <th></th>\n",
       "      <th></th>\n",
       "    </tr>\n",
       "  </thead>\n",
       "  <tbody>\n",
       "    <tr>\n",
       "      <td>1</td>\n",
       "      <td>Annie</td>\n",
       "      <td>Mage</td>\n",
       "      <td>NaN</td>\n",
       "    </tr>\n",
       "    <tr>\n",
       "      <td>10</td>\n",
       "      <td>Kayle</td>\n",
       "      <td>Fighter</td>\n",
       "      <td>Support</td>\n",
       "    </tr>\n",
       "    <tr>\n",
       "      <td>101</td>\n",
       "      <td>Xerath</td>\n",
       "      <td>Mage</td>\n",
       "      <td>Assassin</td>\n",
       "    </tr>\n",
       "    <tr>\n",
       "      <td>102</td>\n",
       "      <td>Shyvana</td>\n",
       "      <td>Fighter</td>\n",
       "      <td>Tank</td>\n",
       "    </tr>\n",
       "    <tr>\n",
       "      <td>103</td>\n",
       "      <td>Ahri</td>\n",
       "      <td>Mage</td>\n",
       "      <td>Assassin</td>\n",
       "    </tr>\n",
       "  </tbody>\n",
       "</table>\n",
       "</div>"
      ],
      "text/plain": [
       "        name     tag1      tag2\n",
       "id                             \n",
       "1      Annie     Mage       NaN\n",
       "10     Kayle  Fighter   Support\n",
       "101   Xerath     Mage  Assassin\n",
       "102  Shyvana  Fighter      Tank\n",
       "103     Ahri     Mage  Assassin"
      ]
     },
     "execution_count": 126,
     "metadata": {},
     "output_type": "execute_result"
    }
   ],
   "source": [
    "champ.head()"
   ]
  },
  {
   "cell_type": "code",
   "execution_count": 14,
   "metadata": {},
   "outputs": [],
   "source": [
    "#get counts of type of chara in a game for each team\n",
    "def get_count(occ, col1, col2, col3, col4, col5):\n",
    "    cnt=0\n",
    "    for i in [col1, col2, col3, col4, col5] :\n",
    "        if (champ[champ.index == i]['tag1'].item() == occ) or (champ[champ.index == i]['tag2'].item() == occ):\n",
    "            cnt +=1\n",
    "    return cnt"
   ]
  },
  {
   "cell_type": "code",
   "execution_count": 15,
   "metadata": {},
   "outputs": [
    {
     "name": "stderr",
     "output_type": "stream",
     "text": [
      "/Users/teddy/opt/anaconda3/lib/python3.7/site-packages/ipykernel_launcher.py:5: FutureWarning: `item` has been deprecated and will be removed in a future version\n",
      "  \"\"\"\n"
     ]
    }
   ],
   "source": [
    "# Fighter in b team\n",
    "games['num_of_Fighter_b'] \\\n",
    "= games.apply(lambda x:get_count('Fighter', x.t1_champ1id, x.t1_champ2id, x.t1_champ3id, x.t1_champ4id, x.t1_champ5id), \n",
    "         axis=1)\n",
    "\n",
    "# Tank in b team\n",
    "games['num_of_Tank_b'] \\\n",
    "= games.apply(lambda x:get_count('Tank', x.t1_champ1id, x.t1_champ2id, x.t1_champ3id, x.t1_champ4id, x.t1_champ5id), \n",
    "         axis=1)\n",
    "\n",
    "# Mage in b team\n",
    "games['num_of_Mage_b'] \\\n",
    "= games.apply(lambda x:get_count('Mage', x.t1_champ1id, x.t1_champ2id, x.t1_champ3id, x.t1_champ4id, x.t1_champ5id), \n",
    "         axis=1)\n",
    "\n",
    "# Assassin in b team\n",
    "games['num_of_Assassin_b'] \\\n",
    "= games.apply(lambda x:get_count('Assassin', x.t1_champ1id, x.t1_champ2id, x.t1_champ3id, x.t1_champ4id, x.t1_champ5id), \n",
    "         axis=1)\n",
    "\n",
    "# Support in b team\n",
    "games['num_of_Support_b'] \\\n",
    "= games.apply(lambda x:get_count('Support', x.t1_champ1id, x.t1_champ2id, x.t1_champ3id, x.t1_champ4id, x.t1_champ5id), \n",
    "         axis=1)\n",
    "\n",
    "# Marksman in b team\n",
    "games['num_of_Marksman_b'] \\\n",
    "= games.apply(lambda x:get_count('Marksman', x.t1_champ1id, x.t1_champ2id, x.t1_champ3id, x.t1_champ4id, x.t1_champ5id), \n",
    "         axis=1)"
   ]
  },
  {
   "cell_type": "code",
   "execution_count": 16,
   "metadata": {},
   "outputs": [
    {
     "name": "stderr",
     "output_type": "stream",
     "text": [
      "/Users/teddy/opt/anaconda3/lib/python3.7/site-packages/ipykernel_launcher.py:5: FutureWarning: `item` has been deprecated and will be removed in a future version\n",
      "  \"\"\"\n"
     ]
    }
   ],
   "source": [
    "# Fighter in r team\n",
    "games['num_of_Fighter_r'] \\\n",
    "= games.apply(lambda x:get_count('Fighter', x.t2_champ1id, x.t2_champ2id, x.t2_champ3id, x.t2_champ4id, x.t2_champ5id), \n",
    "         axis=1)\n",
    "\n",
    "# Tank in r team\n",
    "games['num_of_Tank_r'] \\\n",
    "= games.apply(lambda x:get_count('Tank', x.t2_champ1id, x.t2_champ2id, x.t2_champ3id, x.t2_champ4id, x.t2_champ5id), \n",
    "         axis=1)\n",
    "\n",
    "# Mage in r team\n",
    "games['num_of_Mage_r'] \\\n",
    "= games.apply(lambda x:get_count('Mage', x.t2_champ1id, x.t2_champ2id, x.t2_champ3id, x.t2_champ4id, x.t2_champ5id), \n",
    "         axis=1)\n",
    "\n",
    "# Assassin in r team\n",
    "games['num_of_Assassin_r'] \\\n",
    "= games.apply(lambda x:get_count('Assassin', x.t2_champ1id, x.t2_champ2id, x.t2_champ3id, x.t2_champ4id, x.t2_champ5id), \n",
    "         axis=1)\n",
    "\n",
    "# Support in r team\n",
    "games['num_of_Support_r'] \\\n",
    "= games.apply(lambda x:get_count('Support', x.t2_champ1id, x.t2_champ2id, x.t2_champ3id, x.t2_champ4id, x.t2_champ5id), \n",
    "         axis=1)\n",
    "\n",
    "# Marksman in r team\n",
    "games['num_of_Marksman_r'] \\\n",
    "= games.apply(lambda x:get_count('Marksman', x.t2_champ1id, x.t2_champ2id, x.t2_champ3id, x.t2_champ4id, x.t2_champ5id), \n",
    "         axis=1)"
   ]
  },
  {
   "cell_type": "code",
   "execution_count": 17,
   "metadata": {},
   "outputs": [
    {
     "data": {
      "text/html": [
       "<div>\n",
       "<style scoped>\n",
       "    .dataframe tbody tr th:only-of-type {\n",
       "        vertical-align: middle;\n",
       "    }\n",
       "\n",
       "    .dataframe tbody tr th {\n",
       "        vertical-align: top;\n",
       "    }\n",
       "\n",
       "    .dataframe thead th {\n",
       "        text-align: right;\n",
       "    }\n",
       "</style>\n",
       "<table border=\"1\" class=\"dataframe\">\n",
       "  <thead>\n",
       "    <tr style=\"text-align: right;\">\n",
       "      <th></th>\n",
       "      <th>gameDuration</th>\n",
       "      <th>winner</th>\n",
       "      <th>firstBlood</th>\n",
       "      <th>firstTower</th>\n",
       "      <th>firstInhibitor</th>\n",
       "      <th>firstBaron</th>\n",
       "      <th>firstDragon</th>\n",
       "      <th>firstRiftHerald</th>\n",
       "      <th>t1_champ1id</th>\n",
       "      <th>t1_champ1_sum1</th>\n",
       "      <th>...</th>\n",
       "      <th>num_of_Mage_b</th>\n",
       "      <th>num_of_Assassin_b</th>\n",
       "      <th>num_of_Support_b</th>\n",
       "      <th>num_of_Marksman_b</th>\n",
       "      <th>num_of_Fighter_r</th>\n",
       "      <th>num_of_Tank_r</th>\n",
       "      <th>num_of_Mage_r</th>\n",
       "      <th>num_of_Assassin_r</th>\n",
       "      <th>num_of_Support_r</th>\n",
       "      <th>num_of_Marksman_r</th>\n",
       "    </tr>\n",
       "  </thead>\n",
       "  <tbody>\n",
       "    <tr>\n",
       "      <td>0</td>\n",
       "      <td>1949</td>\n",
       "      <td>b</td>\n",
       "      <td>r</td>\n",
       "      <td>b</td>\n",
       "      <td>b</td>\n",
       "      <td>b</td>\n",
       "      <td>b</td>\n",
       "      <td>r</td>\n",
       "      <td>8</td>\n",
       "      <td>12</td>\n",
       "      <td>...</td>\n",
       "      <td>4</td>\n",
       "      <td>1</td>\n",
       "      <td>1</td>\n",
       "      <td>1</td>\n",
       "      <td>3</td>\n",
       "      <td>1</td>\n",
       "      <td>0</td>\n",
       "      <td>1</td>\n",
       "      <td>1</td>\n",
       "      <td>2</td>\n",
       "    </tr>\n",
       "    <tr>\n",
       "      <td>1</td>\n",
       "      <td>1851</td>\n",
       "      <td>b</td>\n",
       "      <td>b</td>\n",
       "      <td>b</td>\n",
       "      <td>b</td>\n",
       "      <td>NaN</td>\n",
       "      <td>b</td>\n",
       "      <td>b</td>\n",
       "      <td>119</td>\n",
       "      <td>7</td>\n",
       "      <td>...</td>\n",
       "      <td>0</td>\n",
       "      <td>3</td>\n",
       "      <td>1</td>\n",
       "      <td>1</td>\n",
       "      <td>4</td>\n",
       "      <td>2</td>\n",
       "      <td>1</td>\n",
       "      <td>2</td>\n",
       "      <td>1</td>\n",
       "      <td>0</td>\n",
       "    </tr>\n",
       "    <tr>\n",
       "      <td>2</td>\n",
       "      <td>1493</td>\n",
       "      <td>b</td>\n",
       "      <td>r</td>\n",
       "      <td>b</td>\n",
       "      <td>b</td>\n",
       "      <td>b</td>\n",
       "      <td>r</td>\n",
       "      <td>NaN</td>\n",
       "      <td>18</td>\n",
       "      <td>4</td>\n",
       "      <td>...</td>\n",
       "      <td>3</td>\n",
       "      <td>3</td>\n",
       "      <td>1</td>\n",
       "      <td>1</td>\n",
       "      <td>3</td>\n",
       "      <td>0</td>\n",
       "      <td>1</td>\n",
       "      <td>1</td>\n",
       "      <td>2</td>\n",
       "      <td>2</td>\n",
       "    </tr>\n",
       "    <tr>\n",
       "      <td>3</td>\n",
       "      <td>1758</td>\n",
       "      <td>b</td>\n",
       "      <td>b</td>\n",
       "      <td>b</td>\n",
       "      <td>b</td>\n",
       "      <td>b</td>\n",
       "      <td>b</td>\n",
       "      <td>NaN</td>\n",
       "      <td>57</td>\n",
       "      <td>4</td>\n",
       "      <td>...</td>\n",
       "      <td>3</td>\n",
       "      <td>1</td>\n",
       "      <td>1</td>\n",
       "      <td>1</td>\n",
       "      <td>3</td>\n",
       "      <td>1</td>\n",
       "      <td>1</td>\n",
       "      <td>2</td>\n",
       "      <td>2</td>\n",
       "      <td>1</td>\n",
       "    </tr>\n",
       "    <tr>\n",
       "      <td>4</td>\n",
       "      <td>2094</td>\n",
       "      <td>b</td>\n",
       "      <td>r</td>\n",
       "      <td>b</td>\n",
       "      <td>b</td>\n",
       "      <td>b</td>\n",
       "      <td>b</td>\n",
       "      <td>NaN</td>\n",
       "      <td>19</td>\n",
       "      <td>4</td>\n",
       "      <td>...</td>\n",
       "      <td>2</td>\n",
       "      <td>1</td>\n",
       "      <td>2</td>\n",
       "      <td>2</td>\n",
       "      <td>2</td>\n",
       "      <td>1</td>\n",
       "      <td>2</td>\n",
       "      <td>2</td>\n",
       "      <td>1</td>\n",
       "      <td>1</td>\n",
       "    </tr>\n",
       "  </tbody>\n",
       "</table>\n",
       "<p>5 rows × 60 columns</p>\n",
       "</div>"
      ],
      "text/plain": [
       "   gameDuration winner firstBlood firstTower firstInhibitor firstBaron  \\\n",
       "0          1949      b          r          b              b          b   \n",
       "1          1851      b          b          b              b        NaN   \n",
       "2          1493      b          r          b              b          b   \n",
       "3          1758      b          b          b              b          b   \n",
       "4          2094      b          r          b              b          b   \n",
       "\n",
       "  firstDragon firstRiftHerald  t1_champ1id  t1_champ1_sum1  ...  \\\n",
       "0           b               r            8              12  ...   \n",
       "1           b               b          119               7  ...   \n",
       "2           r             NaN           18               4  ...   \n",
       "3           b             NaN           57               4  ...   \n",
       "4           b             NaN           19               4  ...   \n",
       "\n",
       "   num_of_Mage_b  num_of_Assassin_b  num_of_Support_b  num_of_Marksman_b  \\\n",
       "0              4                  1                 1                  1   \n",
       "1              0                  3                 1                  1   \n",
       "2              3                  3                 1                  1   \n",
       "3              3                  1                 1                  1   \n",
       "4              2                  1                 2                  2   \n",
       "\n",
       "   num_of_Fighter_r  num_of_Tank_r  num_of_Mage_r  num_of_Assassin_r  \\\n",
       "0                 3              1              0                  1   \n",
       "1                 4              2              1                  2   \n",
       "2                 3              0              1                  1   \n",
       "3                 3              1              1                  2   \n",
       "4                 2              1              2                  2   \n",
       "\n",
       "   num_of_Support_r  num_of_Marksman_r  \n",
       "0                 1                  2  \n",
       "1                 1                  0  \n",
       "2                 2                  2  \n",
       "3                 2                  1  \n",
       "4                 1                  1  \n",
       "\n",
       "[5 rows x 60 columns]"
      ]
     },
     "execution_count": 17,
     "metadata": {},
     "output_type": "execute_result"
    }
   ],
   "source": [
    "games.head()"
   ]
  },
  {
   "cell_type": "code",
   "execution_count": 18,
   "metadata": {},
   "outputs": [
    {
     "data": {
      "text/html": [
       "<div>\n",
       "<style scoped>\n",
       "    .dataframe tbody tr th:only-of-type {\n",
       "        vertical-align: middle;\n",
       "    }\n",
       "\n",
       "    .dataframe tbody tr th {\n",
       "        vertical-align: top;\n",
       "    }\n",
       "\n",
       "    .dataframe thead th {\n",
       "        text-align: right;\n",
       "    }\n",
       "</style>\n",
       "<table border=\"1\" class=\"dataframe\">\n",
       "  <thead>\n",
       "    <tr style=\"text-align: right;\">\n",
       "      <th></th>\n",
       "      <th>summonerLevel</th>\n",
       "      <th>name</th>\n",
       "      <th>key</th>\n",
       "      <th>description</th>\n",
       "    </tr>\n",
       "    <tr>\n",
       "      <th>id</th>\n",
       "      <th></th>\n",
       "      <th></th>\n",
       "      <th></th>\n",
       "      <th></th>\n",
       "    </tr>\n",
       "  </thead>\n",
       "  <tbody>\n",
       "    <tr>\n",
       "      <td>1</td>\n",
       "      <td>6</td>\n",
       "      <td>Cleanse</td>\n",
       "      <td>SummonerBoost</td>\n",
       "      <td>Removes all disables (excluding suppression an...</td>\n",
       "    </tr>\n",
       "    <tr>\n",
       "      <td>11</td>\n",
       "      <td>10</td>\n",
       "      <td>Smite</td>\n",
       "      <td>SummonerSmite</td>\n",
       "      <td>Deals 390-1000 true damage (depending on champ...</td>\n",
       "    </tr>\n",
       "    <tr>\n",
       "      <td>12</td>\n",
       "      <td>6</td>\n",
       "      <td>Teleport</td>\n",
       "      <td>SummonerTeleport</td>\n",
       "      <td>After channeling for 4.5 seconds, teleports yo...</td>\n",
       "    </tr>\n",
       "    <tr>\n",
       "      <td>13</td>\n",
       "      <td>1</td>\n",
       "      <td>Clarity</td>\n",
       "      <td>SummonerMana</td>\n",
       "      <td>Restores 50% of your champion's maximum Mana. ...</td>\n",
       "    </tr>\n",
       "    <tr>\n",
       "      <td>14</td>\n",
       "      <td>10</td>\n",
       "      <td>Ignite</td>\n",
       "      <td>SummonerDot</td>\n",
       "      <td>Ignites target enemy champion, dealing 70-410 ...</td>\n",
       "    </tr>\n",
       "  </tbody>\n",
       "</table>\n",
       "</div>"
      ],
      "text/plain": [
       "    summonerLevel      name               key  \\\n",
       "id                                              \n",
       "1               6   Cleanse     SummonerBoost   \n",
       "11             10     Smite     SummonerSmite   \n",
       "12              6  Teleport  SummonerTeleport   \n",
       "13              1   Clarity      SummonerMana   \n",
       "14             10    Ignite       SummonerDot   \n",
       "\n",
       "                                          description  \n",
       "id                                                     \n",
       "1   Removes all disables (excluding suppression an...  \n",
       "11  Deals 390-1000 true damage (depending on champ...  \n",
       "12  After channeling for 4.5 seconds, teleports yo...  \n",
       "13  Restores 50% of your champion's maximum Mana. ...  \n",
       "14  Ignites target enemy champion, dealing 70-410 ...  "
      ]
     },
     "execution_count": 18,
     "metadata": {},
     "output_type": "execute_result"
    }
   ],
   "source": [
    "#spell data\n",
    "\n",
    "spell = pd.read_json('summoner_spell_info.json')\n",
    "spell = json_normalize(spell.data)\n",
    "spell.set_index('id', inplace=True)\n",
    "spell.head()"
   ]
  },
  {
   "cell_type": "code",
   "execution_count": 19,
   "metadata": {},
   "outputs": [],
   "source": [
    "# champ id to name\n",
    "def toname(id,data):\n",
    "    return data['name'][id]\n",
    "    \n",
    "champCols = ['t1_champ1id','t1_champ2id','t1_champ3id','t1_champ4id','t1_champ5id',\n",
    "             't2_champ1id','t2_champ2id','t2_champ3id','t2_champ4id','t2_champ5id']\n",
    "\n",
    "\n",
    "for i in champCols:\n",
    "    games[i] = games[i].apply(lambda x: toname(x, champ))\n"
   ]
  },
  {
   "cell_type": "code",
   "execution_count": 127,
   "metadata": {},
   "outputs": [
    {
     "data": {
      "text/html": [
       "<div>\n",
       "<style scoped>\n",
       "    .dataframe tbody tr th:only-of-type {\n",
       "        vertical-align: middle;\n",
       "    }\n",
       "\n",
       "    .dataframe tbody tr th {\n",
       "        vertical-align: top;\n",
       "    }\n",
       "\n",
       "    .dataframe thead th {\n",
       "        text-align: right;\n",
       "    }\n",
       "</style>\n",
       "<table border=\"1\" class=\"dataframe\">\n",
       "  <thead>\n",
       "    <tr style=\"text-align: right;\">\n",
       "      <th></th>\n",
       "      <th>summonerLevel</th>\n",
       "      <th>name</th>\n",
       "      <th>key</th>\n",
       "      <th>description</th>\n",
       "    </tr>\n",
       "    <tr>\n",
       "      <th>id</th>\n",
       "      <th></th>\n",
       "      <th></th>\n",
       "      <th></th>\n",
       "      <th></th>\n",
       "    </tr>\n",
       "  </thead>\n",
       "  <tbody>\n",
       "    <tr>\n",
       "      <td>1</td>\n",
       "      <td>6</td>\n",
       "      <td>Cleanse</td>\n",
       "      <td>SummonerBoost</td>\n",
       "      <td>Removes all disables (excluding suppression an...</td>\n",
       "    </tr>\n",
       "    <tr>\n",
       "      <td>11</td>\n",
       "      <td>10</td>\n",
       "      <td>Smite</td>\n",
       "      <td>SummonerSmite</td>\n",
       "      <td>Deals 390-1000 true damage (depending on champ...</td>\n",
       "    </tr>\n",
       "    <tr>\n",
       "      <td>12</td>\n",
       "      <td>6</td>\n",
       "      <td>Teleport</td>\n",
       "      <td>SummonerTeleport</td>\n",
       "      <td>After channeling for 4.5 seconds, teleports yo...</td>\n",
       "    </tr>\n",
       "    <tr>\n",
       "      <td>13</td>\n",
       "      <td>1</td>\n",
       "      <td>Clarity</td>\n",
       "      <td>SummonerMana</td>\n",
       "      <td>Restores 50% of your champion's maximum Mana. ...</td>\n",
       "    </tr>\n",
       "    <tr>\n",
       "      <td>14</td>\n",
       "      <td>10</td>\n",
       "      <td>Ignite</td>\n",
       "      <td>SummonerDot</td>\n",
       "      <td>Ignites target enemy champion, dealing 70-410 ...</td>\n",
       "    </tr>\n",
       "  </tbody>\n",
       "</table>\n",
       "</div>"
      ],
      "text/plain": [
       "    summonerLevel      name               key  \\\n",
       "id                                              \n",
       "1               6   Cleanse     SummonerBoost   \n",
       "11             10     Smite     SummonerSmite   \n",
       "12              6  Teleport  SummonerTeleport   \n",
       "13              1   Clarity      SummonerMana   \n",
       "14             10    Ignite       SummonerDot   \n",
       "\n",
       "                                          description  \n",
       "id                                                     \n",
       "1   Removes all disables (excluding suppression an...  \n",
       "11  Deals 390-1000 true damage (depending on champ...  \n",
       "12  After channeling for 4.5 seconds, teleports yo...  \n",
       "13  Restores 50% of your champion's maximum Mana. ...  \n",
       "14  Ignites target enemy champion, dealing 70-410 ...  "
      ]
     },
     "execution_count": 127,
     "metadata": {},
     "output_type": "execute_result"
    }
   ],
   "source": [
    "spell.head()"
   ]
  },
  {
   "cell_type": "code",
   "execution_count": 21,
   "metadata": {},
   "outputs": [],
   "source": [
    "# spell id to name\n",
    "spellCols = ['t1_champ1_sum1','t1_champ1_sum2','t1_champ2_sum1','t1_champ2_sum2','t1_champ3_sum1','t1_champ3_sum2',\n",
    "             't1_champ4_sum1','t1_champ4_sum2','t1_champ5_sum1','t1_champ5_sum2','t2_champ1_sum1','t2_champ1_sum2',\n",
    "             't2_champ2_sum1','t2_champ2_sum2','t2_champ3_sum1','t2_champ3_sum2','t2_champ4_sum1','t2_champ4_sum2',\n",
    "             't2_champ5_sum1','t2_champ5_sum2']\n",
    "\n",
    "for i in spellCols:\n",
    "    games[i] = games[i].apply(lambda x: toname(x,spell))\n",
    "    "
   ]
  },
  {
   "cell_type": "code",
   "execution_count": 22,
   "metadata": {},
   "outputs": [
    {
     "data": {
      "text/html": [
       "<div>\n",
       "<style scoped>\n",
       "    .dataframe tbody tr th:only-of-type {\n",
       "        vertical-align: middle;\n",
       "    }\n",
       "\n",
       "    .dataframe tbody tr th {\n",
       "        vertical-align: top;\n",
       "    }\n",
       "\n",
       "    .dataframe thead th {\n",
       "        text-align: right;\n",
       "    }\n",
       "</style>\n",
       "<table border=\"1\" class=\"dataframe\">\n",
       "  <thead>\n",
       "    <tr style=\"text-align: right;\">\n",
       "      <th></th>\n",
       "      <th>gameDuration</th>\n",
       "      <th>winner</th>\n",
       "      <th>firstBlood</th>\n",
       "      <th>firstTower</th>\n",
       "      <th>firstInhibitor</th>\n",
       "      <th>firstBaron</th>\n",
       "      <th>firstDragon</th>\n",
       "      <th>firstRiftHerald</th>\n",
       "      <th>t1_champ1id</th>\n",
       "      <th>t1_champ1_sum1</th>\n",
       "      <th>...</th>\n",
       "      <th>num_of_Mage_b</th>\n",
       "      <th>num_of_Assassin_b</th>\n",
       "      <th>num_of_Support_b</th>\n",
       "      <th>num_of_Marksman_b</th>\n",
       "      <th>num_of_Fighter_r</th>\n",
       "      <th>num_of_Tank_r</th>\n",
       "      <th>num_of_Mage_r</th>\n",
       "      <th>num_of_Assassin_r</th>\n",
       "      <th>num_of_Support_r</th>\n",
       "      <th>num_of_Marksman_r</th>\n",
       "    </tr>\n",
       "  </thead>\n",
       "  <tbody>\n",
       "    <tr>\n",
       "      <td>0</td>\n",
       "      <td>1949</td>\n",
       "      <td>b</td>\n",
       "      <td>r</td>\n",
       "      <td>b</td>\n",
       "      <td>b</td>\n",
       "      <td>b</td>\n",
       "      <td>b</td>\n",
       "      <td>r</td>\n",
       "      <td>Vladimir</td>\n",
       "      <td>Teleport</td>\n",
       "      <td>...</td>\n",
       "      <td>4</td>\n",
       "      <td>1</td>\n",
       "      <td>1</td>\n",
       "      <td>1</td>\n",
       "      <td>3</td>\n",
       "      <td>1</td>\n",
       "      <td>0</td>\n",
       "      <td>1</td>\n",
       "      <td>1</td>\n",
       "      <td>2</td>\n",
       "    </tr>\n",
       "    <tr>\n",
       "      <td>1</td>\n",
       "      <td>1851</td>\n",
       "      <td>b</td>\n",
       "      <td>b</td>\n",
       "      <td>b</td>\n",
       "      <td>b</td>\n",
       "      <td>NaN</td>\n",
       "      <td>b</td>\n",
       "      <td>b</td>\n",
       "      <td>Draven</td>\n",
       "      <td>Heal</td>\n",
       "      <td>...</td>\n",
       "      <td>0</td>\n",
       "      <td>3</td>\n",
       "      <td>1</td>\n",
       "      <td>1</td>\n",
       "      <td>4</td>\n",
       "      <td>2</td>\n",
       "      <td>1</td>\n",
       "      <td>2</td>\n",
       "      <td>1</td>\n",
       "      <td>0</td>\n",
       "    </tr>\n",
       "    <tr>\n",
       "      <td>2</td>\n",
       "      <td>1493</td>\n",
       "      <td>b</td>\n",
       "      <td>r</td>\n",
       "      <td>b</td>\n",
       "      <td>b</td>\n",
       "      <td>b</td>\n",
       "      <td>r</td>\n",
       "      <td>NaN</td>\n",
       "      <td>Tristana</td>\n",
       "      <td>Flash</td>\n",
       "      <td>...</td>\n",
       "      <td>3</td>\n",
       "      <td>3</td>\n",
       "      <td>1</td>\n",
       "      <td>1</td>\n",
       "      <td>3</td>\n",
       "      <td>0</td>\n",
       "      <td>1</td>\n",
       "      <td>1</td>\n",
       "      <td>2</td>\n",
       "      <td>2</td>\n",
       "    </tr>\n",
       "    <tr>\n",
       "      <td>3</td>\n",
       "      <td>1758</td>\n",
       "      <td>b</td>\n",
       "      <td>b</td>\n",
       "      <td>b</td>\n",
       "      <td>b</td>\n",
       "      <td>b</td>\n",
       "      <td>b</td>\n",
       "      <td>NaN</td>\n",
       "      <td>Maokai</td>\n",
       "      <td>Flash</td>\n",
       "      <td>...</td>\n",
       "      <td>3</td>\n",
       "      <td>1</td>\n",
       "      <td>1</td>\n",
       "      <td>1</td>\n",
       "      <td>3</td>\n",
       "      <td>1</td>\n",
       "      <td>1</td>\n",
       "      <td>2</td>\n",
       "      <td>2</td>\n",
       "      <td>1</td>\n",
       "    </tr>\n",
       "    <tr>\n",
       "      <td>4</td>\n",
       "      <td>2094</td>\n",
       "      <td>b</td>\n",
       "      <td>r</td>\n",
       "      <td>b</td>\n",
       "      <td>b</td>\n",
       "      <td>b</td>\n",
       "      <td>b</td>\n",
       "      <td>NaN</td>\n",
       "      <td>Warwick</td>\n",
       "      <td>Flash</td>\n",
       "      <td>...</td>\n",
       "      <td>2</td>\n",
       "      <td>1</td>\n",
       "      <td>2</td>\n",
       "      <td>2</td>\n",
       "      <td>2</td>\n",
       "      <td>1</td>\n",
       "      <td>2</td>\n",
       "      <td>2</td>\n",
       "      <td>1</td>\n",
       "      <td>1</td>\n",
       "    </tr>\n",
       "  </tbody>\n",
       "</table>\n",
       "<p>5 rows × 60 columns</p>\n",
       "</div>"
      ],
      "text/plain": [
       "   gameDuration winner firstBlood firstTower firstInhibitor firstBaron  \\\n",
       "0          1949      b          r          b              b          b   \n",
       "1          1851      b          b          b              b        NaN   \n",
       "2          1493      b          r          b              b          b   \n",
       "3          1758      b          b          b              b          b   \n",
       "4          2094      b          r          b              b          b   \n",
       "\n",
       "  firstDragon firstRiftHerald t1_champ1id t1_champ1_sum1  ... num_of_Mage_b  \\\n",
       "0           b               r    Vladimir       Teleport  ...             4   \n",
       "1           b               b      Draven           Heal  ...             0   \n",
       "2           r             NaN    Tristana          Flash  ...             3   \n",
       "3           b             NaN      Maokai          Flash  ...             3   \n",
       "4           b             NaN     Warwick          Flash  ...             2   \n",
       "\n",
       "  num_of_Assassin_b num_of_Support_b num_of_Marksman_b num_of_Fighter_r  \\\n",
       "0                 1                1                 1                3   \n",
       "1                 3                1                 1                4   \n",
       "2                 3                1                 1                3   \n",
       "3                 1                1                 1                3   \n",
       "4                 1                2                 2                2   \n",
       "\n",
       "  num_of_Tank_r num_of_Mage_r num_of_Assassin_r num_of_Support_r  \\\n",
       "0             1             0                 1                1   \n",
       "1             2             1                 2                1   \n",
       "2             0             1                 1                2   \n",
       "3             1             1                 2                2   \n",
       "4             1             2                 2                1   \n",
       "\n",
       "  num_of_Marksman_r  \n",
       "0                 2  \n",
       "1                 0  \n",
       "2                 2  \n",
       "3                 1  \n",
       "4                 1  \n",
       "\n",
       "[5 rows x 60 columns]"
      ]
     },
     "execution_count": 22,
     "metadata": {},
     "output_type": "execute_result"
    }
   ],
   "source": [
    "games.head()"
   ]
  },
  {
   "cell_type": "code",
   "execution_count": 23,
   "metadata": {},
   "outputs": [
    {
     "data": {
      "text/plain": [
       "gameDuration           int64\n",
       "winner                object\n",
       "firstBlood            object\n",
       "firstTower            object\n",
       "firstInhibitor        object\n",
       "firstBaron            object\n",
       "firstDragon           object\n",
       "firstRiftHerald       object\n",
       "t1_champ1id           object\n",
       "t1_champ1_sum1        object\n",
       "t1_champ1_sum2        object\n",
       "t1_champ2id           object\n",
       "t1_champ2_sum1        object\n",
       "t1_champ2_sum2        object\n",
       "t1_champ3id           object\n",
       "t1_champ3_sum1        object\n",
       "t1_champ3_sum2        object\n",
       "t1_champ4id           object\n",
       "t1_champ4_sum1        object\n",
       "t1_champ4_sum2        object\n",
       "t1_champ5id           object\n",
       "t1_champ5_sum1        object\n",
       "t1_champ5_sum2        object\n",
       "t1_towerKills          int64\n",
       "t1_inhibitorKills      int64\n",
       "t1_baronKills          int64\n",
       "t1_dragonKills         int64\n",
       "t1_riftHeraldKills     int64\n",
       "t2_champ1id           object\n",
       "t2_champ1_sum1        object\n",
       "t2_champ1_sum2        object\n",
       "t2_champ2id           object\n",
       "t2_champ2_sum1        object\n",
       "t2_champ2_sum2        object\n",
       "t2_champ3id           object\n",
       "t2_champ3_sum1        object\n",
       "t2_champ3_sum2        object\n",
       "t2_champ4id           object\n",
       "t2_champ4_sum1        object\n",
       "t2_champ4_sum2        object\n",
       "t2_champ5id           object\n",
       "t2_champ5_sum1        object\n",
       "t2_champ5_sum2        object\n",
       "t2_towerKills          int64\n",
       "t2_inhibitorKills      int64\n",
       "t2_baronKills          int64\n",
       "t2_dragonKills         int64\n",
       "t2_riftHeraldKills     int64\n",
       "num_of_Fighter_b       int64\n",
       "num_of_Tank_b          int64\n",
       "num_of_Mage_b          int64\n",
       "num_of_Assassin_b      int64\n",
       "num_of_Support_b       int64\n",
       "num_of_Marksman_b      int64\n",
       "num_of_Fighter_r       int64\n",
       "num_of_Tank_r          int64\n",
       "num_of_Mage_r          int64\n",
       "num_of_Assassin_r      int64\n",
       "num_of_Support_r       int64\n",
       "num_of_Marksman_r      int64\n",
       "dtype: object"
      ]
     },
     "execution_count": 23,
     "metadata": {},
     "output_type": "execute_result"
    }
   ],
   "source": [
    "games.dtypes"
   ]
  },
  {
   "cell_type": "code",
   "execution_count": 24,
   "metadata": {},
   "outputs": [
    {
     "data": {
      "text/plain": [
       "<matplotlib.axes._subplots.AxesSubplot at 0x1a35e41190>"
      ]
     },
     "execution_count": 24,
     "metadata": {},
     "output_type": "execute_result"
    },
    {
     "data": {
      "image/png": "[encoded data removed]",
      "text/plain": [
       "<Figure size 1080x864 with 2 Axes>"
      ]
     },
     "metadata": {
      "needs_background": "light"
     },
     "output_type": "display_data"
    }
   ],
   "source": [
    "# counts for the champ\n",
    "\n",
    "champ_cnt = games[champCols].apply(pd.Series.value_counts).sum(axis=1)\n",
    "\n",
    "fig, axes = plt.subplots(ncols=2, sharey=False, figsize=(15,12))\n",
    "\n",
    "champ_cnt.sort_values(ascending = False)[:19].plot(kind='bar', ax=axes[0], title = 'top most frequent 20 champs')\n",
    "\n",
    "champ_cnt.sort_values(ascending = False)[-20:].plot(kind='bar', ax = axes[1], title = 'top less frequent 20 champs')\n"
   ]
  },
  {
   "cell_type": "code",
   "execution_count": 25,
   "metadata": {},
   "outputs": [
    {
     "data": {
      "text/plain": [
       "<matplotlib.axes._subplots.AxesSubplot at 0x1a35090f50>"
      ]
     },
     "execution_count": 25,
     "metadata": {},
     "output_type": "execute_result"
    },
    {
     "data": {
      "image/png": "[encoded data removed]",
      "text/plain": [
       "<Figure size 432x288 with 1 Axes>"
      ]
     },
     "metadata": {
      "needs_background": "light"
     },
     "output_type": "display_data"
    }
   ],
   "source": [
    "# counts for the spell\n",
    "\n",
    "spell_cnt = games[spellCols].apply(pd.Series.value_counts).sum(axis=1)\n",
    "\n",
    "spell_cnt.sort_values(ascending = False).plot(kind='bar', title = 'spell count')\n"
   ]
  },
  {
   "cell_type": "markdown",
   "metadata": {},
   "source": [
    "# model"
   ]
  },
  {
   "cell_type": "markdown",
   "metadata": {},
   "source": [
    "Label encode and onehot encoder"
   ]
  },
  {
   "cell_type": "code",
   "execution_count": 26,
   "metadata": {},
   "outputs": [],
   "source": [
    "# cat to numerice\n",
    "df = games.fillna('o')\n",
    "df.shape\n",
    "df.replace({'b':1, 'r':0, 'o':2}, inplace = True)"
   ]
  },
  {
   "cell_type": "code",
   "execution_count": 27,
   "metadata": {},
   "outputs": [],
   "source": [
    "# X and Y def\n",
    "Y = df['winner'].values\n",
    "\n",
    "X = df.drop(columns = 'winner')"
   ]
  },
  {
   "cell_type": "code",
   "execution_count": 28,
   "metadata": {},
   "outputs": [],
   "source": [
    "# cat columns\n",
    "categorical_cols = X.dtypes[X.dtypes==object].index\n",
    "\n",
    "categorical_mask = X.dtypes==object"
   ]
  },
  {
   "cell_type": "code",
   "execution_count": 29,
   "metadata": {},
   "outputs": [],
   "source": [
    "# label encoder\n",
    "le = LabelEncoder()\n",
    "\n",
    "X[categorical_cols] = X[categorical_cols].apply(lambda col: le.fit_transform(col))"
   ]
  },
  {
   "cell_type": "code",
   "execution_count": 30,
   "metadata": {},
   "outputs": [],
   "source": [
    "X[categorical_cols] = X[categorical_cols].astype(object) "
   ]
  },
  {
   "cell_type": "code",
   "execution_count": 31,
   "metadata": {},
   "outputs": [
    {
     "name": "stderr",
     "output_type": "stream",
     "text": [
      "/Users/teddy/opt/anaconda3/lib/python3.7/site-packages/sklearn/preprocessing/_encoders.py:415: FutureWarning: The handling of integer data will change in version 0.22. Currently, the categories are determined based on the range [0, max(values)], while in the future they will be determined based on the unique values.\n",
      "If you want the future behaviour and silence this warning, you can specify \"categories='auto'\".\n",
      "In case you used a LabelEncoder before this OneHotEncoder to convert the categories to integers, then you can now use the OneHotEncoder directly.\n",
      "  warnings.warn(msg, FutureWarning)\n"
     ]
    }
   ],
   "source": [
    "# one hot encoder\n",
    "ohe = OneHotEncoder(sparse=False)\n",
    "\n",
    "X = ohe.fit_transform(X)\n",
    "#Y = ohe.fit_transform(Y)"
   ]
  },
  {
   "cell_type": "code",
   "execution_count": 32,
   "metadata": {},
   "outputs": [
    {
     "data": {
      "text/plain": [
       "(51490, 4315)"
      ]
     },
     "execution_count": 32,
     "metadata": {},
     "output_type": "execute_result"
    }
   ],
   "source": [
    "X.shape"
   ]
  },
  {
   "cell_type": "code",
   "execution_count": 33,
   "metadata": {},
   "outputs": [
    {
     "data": {
      "text/plain": [
       "(51490,)"
      ]
     },
     "execution_count": 33,
     "metadata": {},
     "output_type": "execute_result"
    }
   ],
   "source": [
    "Y.shape"
   ]
  },
  {
   "cell_type": "markdown",
   "metadata": {},
   "source": [
    "Feature selection"
   ]
  },
  {
   "cell_type": "code",
   "execution_count": 34,
   "metadata": {},
   "outputs": [],
   "source": [
    "# feature selection\n",
    "\n",
    "lsvc = LinearSVC(C=0.01, penalty=\"l1\", dual=False).fit(X, Y)"
   ]
  },
  {
   "cell_type": "code",
   "execution_count": 35,
   "metadata": {},
   "outputs": [
    {
     "data": {
      "text/plain": [
       "Text(0.5, 1.0, 'coef of features')"
      ]
     },
     "execution_count": 35,
     "metadata": {},
     "output_type": "execute_result"
    },
    {
     "data": {
      "image/png": "[encoded data removed]",
      "text/plain": [
       "<Figure size 1440x1440 with 1 Axes>"
      ]
     },
     "metadata": {
      "needs_background": "light"
     },
     "output_type": "display_data"
    }
   ],
   "source": [
    "plt.figure(figsize = (20,20))\n",
    "plt.plot(range(4315),lsvc.coef_[0,:])\n",
    "plt.title('coef of features')"
   ]
  },
  {
   "cell_type": "code",
   "execution_count": 36,
   "metadata": {},
   "outputs": [
    {
     "data": {
      "text/plain": [
       "(51490, 49)"
      ]
     },
     "execution_count": 36,
     "metadata": {},
     "output_type": "execute_result"
    }
   ],
   "source": [
    "# feature selection\n",
    "\n",
    "model = SelectFromModel(lsvc, prefit=True)\n",
    "X = model.transform(X)\n",
    "X.shape"
   ]
  },
  {
   "cell_type": "code",
   "execution_count": 37,
   "metadata": {},
   "outputs": [
    {
     "data": {
      "text/plain": [
       "(51490, 49)"
      ]
     },
     "execution_count": 37,
     "metadata": {},
     "output_type": "execute_result"
    }
   ],
   "source": [
    "X.shape"
   ]
  },
  {
   "cell_type": "code",
   "execution_count": 38,
   "metadata": {},
   "outputs": [
    {
     "data": {
      "text/plain": [
       "(51490,)"
      ]
     },
     "execution_count": 38,
     "metadata": {},
     "output_type": "execute_result"
    }
   ],
   "source": [
    "Y.shape"
   ]
  },
  {
   "cell_type": "markdown",
   "metadata": {},
   "source": [
    "1. KNN "
   ]
  },
  {
   "cell_type": "code",
   "execution_count": 39,
   "metadata": {},
   "outputs": [
    {
     "name": "stderr",
     "output_type": "stream",
     "text": [
      "/Users/teddy/opt/anaconda3/lib/python3.7/site-packages/sklearn/model_selection/_search.py:266: UserWarning: The total space of parameters 9 is smaller than n_iter=10. Running 9 iterations. For exhaustive searches, use GridSearchCV.\n",
      "  % (grid_size, self.n_iter, grid_size), UserWarning)\n"
     ]
    },
    {
     "name": "stdout",
     "output_type": "stream",
     "text": [
      "best param is {'n_neighbors': 9}\n",
      "best score is 0.9932375371429099\n",
      "-------------\n"
     ]
    }
   ],
   "source": [
    "# normalize\n",
    "\n",
    "scaler = StandardScaler()\n",
    "scaler.fit\n",
    "X = scaler.fit_transform(X)\n",
    "X_train, X_test, Y_train, Y_test = train_test_split(X, Y, test_size = 0.4, random_state=42, stratify = Y)\n",
    "\n",
    "\n",
    "# grid search\n",
    "knn = KNeighborsClassifier()\n",
    "n = np.arange(1,10)\n",
    "param_knn = {'n_neighbors':n}\n",
    "\n",
    "inner_cv = StratifiedKFold(n_splits=4, shuffle=True, random_state=42)\n",
    "outer_cv = StratifiedKFold(n_splits=4, shuffle=True, random_state=42)\n",
    "                           \n",
    "knn_cv = RandomizedSearchCV(knn, param_knn, cv=inner_cv, scoring='roc_auc')\n",
    "knn_cv.fit(X_train, Y_train)\n",
    "print('best param is {0}'.format(knn_cv.best_params_))\n",
    "print('best score is {0}'.format(knn_cv.best_score_))\n",
    "print('-------------')"
   ]
  },
  {
   "cell_type": "code",
   "execution_count": 40,
   "metadata": {},
   "outputs": [
    {
     "name": "stderr",
     "output_type": "stream",
     "text": [
      "/Users/teddy/opt/anaconda3/lib/python3.7/site-packages/sklearn/model_selection/_search.py:266: UserWarning: The total space of parameters 9 is smaller than n_iter=10. Running 9 iterations. For exhaustive searches, use GridSearchCV.\n",
      "  % (grid_size, self.n_iter, grid_size), UserWarning)\n",
      "/Users/teddy/opt/anaconda3/lib/python3.7/site-packages/sklearn/model_selection/_search.py:266: UserWarning: The total space of parameters 9 is smaller than n_iter=10. Running 9 iterations. For exhaustive searches, use GridSearchCV.\n",
      "  % (grid_size, self.n_iter, grid_size), UserWarning)\n",
      "/Users/teddy/opt/anaconda3/lib/python3.7/site-packages/sklearn/model_selection/_search.py:266: UserWarning: The total space of parameters 9 is smaller than n_iter=10. Running 9 iterations. For exhaustive searches, use GridSearchCV.\n",
      "  % (grid_size, self.n_iter, grid_size), UserWarning)\n",
      "/Users/teddy/opt/anaconda3/lib/python3.7/site-packages/sklearn/model_selection/_search.py:266: UserWarning: The total space of parameters 9 is smaller than n_iter=10. Running 9 iterations. For exhaustive searches, use GridSearchCV.\n",
      "  % (grid_size, self.n_iter, grid_size), UserWarning)\n"
     ]
    }
   ],
   "source": [
    "knn_score = cross_val_score(knn_cv, X=X_train, y=Y_train, cv=outer_cv, scoring='roc_auc')"
   ]
  },
  {
   "cell_type": "code",
   "execution_count": 41,
   "metadata": {},
   "outputs": [
    {
     "data": {
      "text/plain": [
       "array([0.99225149, 0.99371475, 0.99381306, 0.99317091])"
      ]
     },
     "execution_count": 41,
     "metadata": {},
     "output_type": "execute_result"
    }
   ],
   "source": [
    "knn_score"
   ]
  },
  {
   "cell_type": "code",
   "execution_count": 42,
   "metadata": {},
   "outputs": [],
   "source": [
    "Y_pred_knn = knn_cv.predict(X_test)"
   ]
  },
  {
   "cell_type": "code",
   "execution_count": 43,
   "metadata": {},
   "outputs": [
    {
     "name": "stdout",
     "output_type": "stream",
     "text": [
      "The AUC is: 0.9609693249005257\n",
      "threshold: [2 1 0]\n",
      "\n",
      "              precision    recall  f1-score   support\n",
      "\n",
      "           0       0.96      0.96      0.96     10165\n",
      "           1       0.96      0.96      0.96     10431\n",
      "\n",
      "    accuracy                           0.96     20596\n",
      "   macro avg       0.96      0.96      0.96     20596\n",
      "weighted avg       0.96      0.96      0.96     20596\n",
      "\n"
     ]
    }
   ],
   "source": [
    "fpr, tpr, thresholds = roc_curve(Y_test, Y_pred_knn)\n",
    "\n",
    "print(\"The AUC is:\", auc(fpr, tpr))\n",
    "print('threshold:', thresholds)\n",
    "print(\"\")\n",
    "print(classification_report(Y_test, Y_pred_knn))"
   ]
  },
  {
   "cell_type": "code",
   "execution_count": 44,
   "metadata": {},
   "outputs": [
    {
     "data": {
      "text/plain": [
       "<matplotlib.axes._subplots.AxesSubplot at 0x1a34d0abd0>"
      ]
     },
     "execution_count": 44,
     "metadata": {},
     "output_type": "execute_result"
    },
    {
     "data": {
      "image/png": "[encoded data removed]",
      "text/plain": [
       "<Figure size 432x288 with 1 Axes>"
      ]
     },
     "metadata": {
      "needs_background": "light"
     },
     "output_type": "display_data"
    },
    {
     "data": {
      "image/png": "[encoded data removed]",
      "text/plain": [
       "<Figure size 432x288 with 1 Axes>"
      ]
     },
     "metadata": {
      "needs_background": "light"
     },
     "output_type": "display_data"
    }
   ],
   "source": [
    "# knn\n",
    "predicted_probas_knn = knn_cv.predict_proba(X_test)\n",
    "\n",
    "# roc curve\n",
    "\n",
    "skplt.metrics.plot_roc(Y_test, predicted_probas_knn)\n",
    "\n",
    "# lift curve\n",
    "\n",
    "skplt.metrics.plot_lift_curve(Y_test, predicted_probas_knn)"
   ]
  },
  {
   "cell_type": "markdown",
   "metadata": {},
   "source": [
    "2. Random Forest"
   ]
  },
  {
   "cell_type": "code",
   "execution_count": 45,
   "metadata": {},
   "outputs": [
    {
     "name": "stdout",
     "output_type": "stream",
     "text": [
      "best param is {'n_estimators': 81, 'min_samples_split': 0.027825594022071243, 'min_samples_leaf': 5, 'max_features': 0.21544346900318834, 'max_depth': 11, 'criterion': 'entropy'}\n",
      "best score is 0.9953380569904814\n",
      "-------------\n"
     ]
    }
   ],
   "source": [
    "# random forest\n",
    "\n",
    "X_train, X_test, Y_train, Y_test = train_test_split(X, Y, test_size = 0.4, random_state=42, stratify = Y)\n",
    "\n",
    "\n",
    "# random search\n",
    "\n",
    "rf = RandomForestClassifier()\n",
    "param_forest = {'n_estimators': np.arange(50,200), 'max_depth' : np.arange(3,20), \n",
    "                'min_samples_split':np.logspace(-2,0,10), 'criterion':['gini','entropy'],\n",
    "                'min_samples_leaf' : np.arange(1,10), 'max_features':np.logspace(-2,0,10)}\n",
    "\n",
    "inner_cv = StratifiedKFold(n_splits=4, shuffle=True, random_state=42)\n",
    "outer_cv = StratifiedKFold(n_splits=4, shuffle=True, random_state=42)\n",
    "\n",
    "rf_cv = RandomizedSearchCV(rf, param_forest, cv=inner_cv, scoring='roc_auc')\n",
    "rf_cv.fit(X_train, Y_train)\n",
    "print('best param is {0}'.format(rf_cv.best_params_))\n",
    "print('best score is {0}'.format(rf_cv.best_score_))\n",
    "print('-------------')\n"
   ]
  },
  {
   "cell_type": "code",
   "execution_count": 46,
   "metadata": {},
   "outputs": [
    {
     "data": {
      "text/plain": [
       "array([0.99565269, 0.9950431 , 0.99555418, 0.99496436])"
      ]
     },
     "execution_count": 46,
     "metadata": {},
     "output_type": "execute_result"
    }
   ],
   "source": [
    "rf_score = cross_val_score(rf_cv, X=X_train, y=Y_train, cv=outer_cv, scoring='roc_auc')\n",
    "rf_score"
   ]
  },
  {
   "cell_type": "code",
   "execution_count": 47,
   "metadata": {},
   "outputs": [
    {
     "name": "stdout",
     "output_type": "stream",
     "text": [
      "The AUC is: 0.9612381139253322\n",
      "threshold: [2 1 0]\n",
      "\n",
      "              precision    recall  f1-score   support\n",
      "\n",
      "           0       0.96      0.96      0.96     10165\n",
      "           1       0.96      0.96      0.96     10431\n",
      "\n",
      "    accuracy                           0.96     20596\n",
      "   macro avg       0.96      0.96      0.96     20596\n",
      "weighted avg       0.96      0.96      0.96     20596\n",
      "\n"
     ]
    }
   ],
   "source": [
    "Y_pred_rf = rf_cv.predict(X_test)\n",
    "\n",
    "fpr, tpr, thresholds = roc_curve(Y_test, Y_pred_rf)\n",
    "\n",
    "print(\"The AUC is:\", auc(fpr, tpr))\n",
    "print('threshold:', thresholds)\n",
    "print(\"\")\n",
    "print(classification_report(Y_test, Y_pred_rf))"
   ]
  },
  {
   "cell_type": "code",
   "execution_count": 48,
   "metadata": {},
   "outputs": [
    {
     "data": {
      "text/plain": [
       "<matplotlib.axes._subplots.AxesSubplot at 0x1a35d81ad0>"
      ]
     },
     "execution_count": 48,
     "metadata": {},
     "output_type": "execute_result"
    },
    {
     "data": {
      "image/png": "[encoded data removed]",
      "text/plain": [
       "<Figure size 432x288 with 1 Axes>"
      ]
     },
     "metadata": {
      "needs_background": "light"
     },
     "output_type": "display_data"
    },
    {
     "data": {
      "image/png": "[encoded data removed]",
      "text/plain": [
       "<Figure size 432x288 with 1 Axes>"
      ]
     },
     "metadata": {
      "needs_background": "light"
     },
     "output_type": "display_data"
    }
   ],
   "source": [
    "# rf\n",
    "predicted_probas_rf = rf_cv.predict_proba(X_test)\n",
    "\n",
    "# roc curve\n",
    "\n",
    "skplt.metrics.plot_roc(Y_test, predicted_probas_rf)\n",
    "\n",
    "# lift curve\n",
    "\n",
    "skplt.metrics.plot_lift_curve(Y_test, predicted_probas_rf)"
   ]
  },
  {
   "cell_type": "markdown",
   "metadata": {},
   "source": [
    "3. Neural network"
   ]
  },
  {
   "cell_type": "code",
   "execution_count": 77,
   "metadata": {},
   "outputs": [],
   "source": [
    "scaler = StandardScaler()\n",
    "X = scaler.fit_transform(X)\n",
    "X_train, X_test, Y_train, Y_test = train_test_split(X, Y, test_size = 0.4, random_state=42, stratify = Y)"
   ]
  },
  {
   "cell_type": "code",
   "execution_count": 78,
   "metadata": {},
   "outputs": [],
   "source": [
    "def build_model(hp):\n",
    "    model = keras.Sequential()\n",
    "    model.add(layers.Dense(units=hp.Int('units',min_value=32,max_value=256,step=32),\n",
    "                           activation=hp.Choice('activation', values = ['sigmoid','relu','tanh'])))\n",
    "    \n",
    "    for i in range(hp.Int('num_layers', 1, 20)):\n",
    "        model.add(layers.Dense(256, activation=hp.Choice('activation', values = ['sigmoid','relu','tanh'])))\n",
    "        #model.add(layers.Dropout(0.4))\n",
    "    \n",
    "    \n",
    "    drop_rate = hp.Choice('drop_rate', values = [0.1,0.2,0.3,0.4])\n",
    "    model.add(layers.Dense(1, activation='sigmoid'))\n",
    "    \n",
    "    model.compile(\n",
    "        optimizer=keras.optimizers.SGD(\n",
    "            hp.Choice('learning_rate',values=[1e-1, 1e-2, 1e-3, 1e-4])),\n",
    "        loss='binary_crossentropy', \n",
    "        metrics=['accuracy'])\n",
    "    return model\n"
   ]
  },
  {
   "cell_type": "code",
   "execution_count": 79,
   "metadata": {},
   "outputs": [
    {
     "name": "stdout",
     "output_type": "stream",
     "text": [
      "Train on 18536 samples, validate on 12358 samples\n",
      "Epoch 1/5\n",
      "18536/18536 - 4s - loss: 0.2280 - accuracy: 0.8895 - val_loss: 0.0774 - val_accuracy: 0.9633\n",
      "Epoch 2/5\n",
      "18536/18536 - 4s - loss: 0.0690 - accuracy: 0.9675 - val_loss: 0.0742 - val_accuracy: 0.9642\n",
      "Epoch 3/5\n",
      "18536/18536 - 4s - loss: 0.0605 - accuracy: 0.9711 - val_loss: 0.0814 - val_accuracy: 0.9617\n",
      "Epoch 4/5\n",
      "18536/18536 - 3s - loss: 0.0567 - accuracy: 0.9736 - val_loss: 0.0928 - val_accuracy: 0.9628\n",
      "Epoch 5/5\n",
      "18536/18536 - 3s - loss: 0.0533 - accuracy: 0.9758 - val_loss: 0.0687 - val_accuracy: 0.9688\n",
      "Train on 18536 samples, validate on 12358 samples\n",
      "Epoch 1/5\n",
      "18536/18536 - 4s - loss: 0.2409 - accuracy: 0.8794 - val_loss: 0.0773 - val_accuracy: 0.9682\n",
      "Epoch 2/5\n",
      "18536/18536 - 4s - loss: 0.0685 - accuracy: 0.9671 - val_loss: 0.0736 - val_accuracy: 0.9660\n",
      "Epoch 3/5\n",
      "18536/18536 - 4s - loss: 0.0604 - accuracy: 0.9707 - val_loss: 0.0759 - val_accuracy: 0.9671\n",
      "Epoch 4/5\n",
      "18536/18536 - 3s - loss: 0.0562 - accuracy: 0.9735 - val_loss: 0.0746 - val_accuracy: 0.9676\n",
      "Epoch 5/5\n",
      "18536/18536 - 3s - loss: 0.0530 - accuracy: 0.9750 - val_loss: 0.0712 - val_accuracy: 0.9665\n",
      "Train on 18536 samples, validate on 12358 samples\n",
      "Epoch 1/5\n",
      "18536/18536 - 4s - loss: 0.2011 - accuracy: 0.9060 - val_loss: 0.0792 - val_accuracy: 0.9646\n",
      "Epoch 2/5\n",
      "18536/18536 - 4s - loss: 0.0678 - accuracy: 0.9696 - val_loss: 0.0927 - val_accuracy: 0.9584\n",
      "Epoch 3/5\n",
      "18536/18536 - 4s - loss: 0.0599 - accuracy: 0.9738 - val_loss: 0.0724 - val_accuracy: 0.9673\n",
      "Epoch 4/5\n",
      "18536/18536 - 3s - loss: 0.0563 - accuracy: 0.9743 - val_loss: 0.0863 - val_accuracy: 0.9612\n",
      "Epoch 5/5\n",
      "18536/18536 - 4s - loss: 0.0520 - accuracy: 0.9765 - val_loss: 0.0792 - val_accuracy: 0.9655\n",
      "Train on 18536 samples, validate on 12358 samples\n",
      "Epoch 1/5\n",
      "18536/18536 - 5s - loss: 0.2171 - accuracy: 0.8945 - val_loss: 0.0823 - val_accuracy: 0.9629\n",
      "Epoch 2/5\n",
      "18536/18536 - 4s - loss: 0.0694 - accuracy: 0.9698 - val_loss: 0.0758 - val_accuracy: 0.9646\n",
      "Epoch 3/5\n",
      "18536/18536 - 4s - loss: 0.0592 - accuracy: 0.9731 - val_loss: 0.1079 - val_accuracy: 0.9638\n",
      "Epoch 4/5\n",
      "18536/18536 - 3s - loss: 0.0560 - accuracy: 0.9745 - val_loss: 0.0745 - val_accuracy: 0.9683\n",
      "Epoch 5/5\n",
      "18536/18536 - 4s - loss: 0.0518 - accuracy: 0.9758 - val_loss: 0.0869 - val_accuracy: 0.9660\n",
      "Train on 18536 samples, validate on 12358 samples\n",
      "Epoch 1/5\n",
      "18536/18536 - 6s - loss: 0.2279 - accuracy: 0.8872 - val_loss: 0.0853 - val_accuracy: 0.9624\n",
      "Epoch 2/5\n",
      "18536/18536 - 4s - loss: 0.0691 - accuracy: 0.9701 - val_loss: 0.0741 - val_accuracy: 0.9666\n",
      "Epoch 3/5\n",
      "18536/18536 - 4s - loss: 0.0603 - accuracy: 0.9730 - val_loss: 0.0801 - val_accuracy: 0.9630\n",
      "Epoch 4/5\n",
      "18536/18536 - 3s - loss: 0.0555 - accuracy: 0.9744 - val_loss: 0.0736 - val_accuracy: 0.9670\n",
      "Epoch 5/5\n",
      "18536/18536 - 4s - loss: 0.0542 - accuracy: 0.9751 - val_loss: 0.0808 - val_accuracy: 0.9650\n"
     ]
    },
    {
     "data": {
      "text/html": [
       "<span style=\"color:#4527A0\"><h1 style=\"font-size:18px\">Trial complete</h1></span>"
      ],
      "text/plain": [
       "<IPython.core.display.HTML object>"
      ]
     },
     "metadata": {},
     "output_type": "display_data"
    },
    {
     "data": {
      "text/html": [
       "<span style=\"color:#4527A0\"><h1 style=\"font-size:18px\">Trial summary</h1></span>"
      ],
      "text/plain": [
       "<IPython.core.display.HTML object>"
      ]
     },
     "metadata": {},
     "output_type": "display_data"
    },
    {
     "data": {
      "text/html": [
       "<span style=\"color:#7E57C2\"><h2 style=\"font-size:16px\">Hp values:</h2></span>"
      ],
      "text/plain": [
       "<IPython.core.display.HTML object>"
      ]
     },
     "metadata": {},
     "output_type": "display_data"
    },
    {
     "data": {
      "text/html": [
       "<span style=\"color:cyan\"> |-activation: relu</span>"
      ],
      "text/plain": [
       "<IPython.core.display.HTML object>"
      ]
     },
     "metadata": {},
     "output_type": "display_data"
    },
    {
     "data": {
      "text/html": [
       "<span style=\"color:blue\"> |-drop_rate: 0.4</span>"
      ],
      "text/plain": [
       "<IPython.core.display.HTML object>"
      ]
     },
     "metadata": {},
     "output_type": "display_data"
    },
    {
     "data": {
      "text/html": [
       "<span style=\"color:cyan\"> |-learning_rate: 0.1</span>"
      ],
      "text/plain": [
       "<IPython.core.display.HTML object>"
      ]
     },
     "metadata": {},
     "output_type": "display_data"
    },
    {
     "data": {
      "text/html": [
       "<span style=\"color:blue\"> |-num_layers: 16</span>"
      ],
      "text/plain": [
       "<IPython.core.display.HTML object>"
      ]
     },
     "metadata": {},
     "output_type": "display_data"
    },
    {
     "data": {
      "text/html": [
       "<span style=\"color:cyan\"> |-units: 96</span>"
      ],
      "text/plain": [
       "<IPython.core.display.HTML object>"
      ]
     },
     "metadata": {},
     "output_type": "display_data"
    },
    {
     "data": {
      "text/html": [
       "<span style=\"color:cyan\"> |-Score: 0.967923641204834</span>"
      ],
      "text/plain": [
       "<IPython.core.display.HTML object>"
      ]
     },
     "metadata": {},
     "output_type": "display_data"
    },
    {
     "data": {
      "text/html": [
       "<span style=\"color:cyan\"> |-Best step: 0</span>"
      ],
      "text/plain": [
       "<IPython.core.display.HTML object>"
      ]
     },
     "metadata": {},
     "output_type": "display_data"
    },
    {
     "name": "stdout",
     "output_type": "stream",
     "text": [
      "Train on 18536 samples, validate on 12358 samples\n",
      "Epoch 1/5\n",
      "18536/18536 - 4s - loss: 0.6929 - accuracy: 0.5769 - val_loss: 0.6924 - val_accuracy: 0.6614\n",
      "Epoch 2/5\n",
      "18536/18536 - 4s - loss: 0.6919 - accuracy: 0.6617 - val_loss: 0.6912 - val_accuracy: 0.7602\n",
      "Epoch 3/5\n",
      "18536/18536 - 4s - loss: 0.6904 - accuracy: 0.7580 - val_loss: 0.6893 - val_accuracy: 0.7691\n",
      "Epoch 4/5\n",
      "18536/18536 - 4s - loss: 0.6878 - accuracy: 0.7970 - val_loss: 0.6858 - val_accuracy: 0.8246\n",
      "Epoch 5/5\n",
      "18536/18536 - 4s - loss: 0.6829 - accuracy: 0.8302 - val_loss: 0.6791 - val_accuracy: 0.8543\n",
      "Train on 18536 samples, validate on 12358 samples\n",
      "Epoch 1/5\n",
      "18536/18536 - 5s - loss: 0.6926 - accuracy: 0.5117 - val_loss: 0.6919 - val_accuracy: 0.4913\n",
      "Epoch 2/5\n",
      "18536/18536 - 4s - loss: 0.6910 - accuracy: 0.6474 - val_loss: 0.6900 - val_accuracy: 0.7174\n",
      "Epoch 3/5\n",
      "18536/18536 - 4s - loss: 0.6885 - accuracy: 0.7736 - val_loss: 0.6869 - val_accuracy: 0.8597\n",
      "Epoch 4/5\n",
      "18536/18536 - 4s - loss: 0.6845 - accuracy: 0.8614 - val_loss: 0.6816 - val_accuracy: 0.8763\n",
      "Epoch 5/5\n",
      "18536/18536 - 4s - loss: 0.6777 - accuracy: 0.8813 - val_loss: 0.6730 - val_accuracy: 0.8816\n",
      "Train on 18536 samples, validate on 12358 samples\n",
      "Epoch 1/5\n",
      "18536/18536 - 4s - loss: 0.6928 - accuracy: 0.5194 - val_loss: 0.6924 - val_accuracy: 0.5126\n",
      "Epoch 2/5\n",
      "18536/18536 - 3s - loss: 0.6922 - accuracy: 0.5119 - val_loss: 0.6917 - val_accuracy: 0.5278\n",
      "Epoch 3/5\n",
      "18536/18536 - 3s - loss: 0.6913 - accuracy: 0.5995 - val_loss: 0.6905 - val_accuracy: 0.6130\n",
      "Epoch 4/5\n",
      "18536/18536 - 3s - loss: 0.6896 - accuracy: 0.7025 - val_loss: 0.6883 - val_accuracy: 0.7572\n",
      "Epoch 5/5\n",
      "18536/18536 - 3s - loss: 0.6866 - accuracy: 0.7998 - val_loss: 0.6843 - val_accuracy: 0.8399\n",
      "Train on 18536 samples, validate on 12358 samples\n",
      "Epoch 1/5\n",
      "18536/18536 - 4s - loss: 0.6930 - accuracy: 0.5401 - val_loss: 0.6928 - val_accuracy: 0.5146\n",
      "Epoch 2/5\n",
      "18536/18536 - 3s - loss: 0.6926 - accuracy: 0.5719 - val_loss: 0.6924 - val_accuracy: 0.5154\n",
      "Epoch 3/5\n",
      "18536/18536 - 3s - loss: 0.6922 - accuracy: 0.5463 - val_loss: 0.6919 - val_accuracy: 0.5333\n",
      "Epoch 4/5\n",
      "18536/18536 - 3s - loss: 0.6916 - accuracy: 0.5410 - val_loss: 0.6911 - val_accuracy: 0.6285\n",
      "Epoch 5/5\n",
      "18536/18536 - 3s - loss: 0.6907 - accuracy: 0.6480 - val_loss: 0.6900 - val_accuracy: 0.7255\n",
      "Train on 18536 samples, validate on 12358 samples\n",
      "Epoch 1/5\n",
      "18536/18536 - 4s - loss: 0.6920 - accuracy: 0.5327 - val_loss: 0.6908 - val_accuracy: 0.5197\n",
      "Epoch 2/5\n",
      "18536/18536 - 3s - loss: 0.6897 - accuracy: 0.6337 - val_loss: 0.6881 - val_accuracy: 0.6820\n",
      "Epoch 3/5\n",
      "18536/18536 - 5s - loss: 0.6863 - accuracy: 0.7311 - val_loss: 0.6836 - val_accuracy: 0.8055\n",
      "Epoch 4/5\n",
      "18536/18536 - 5s - loss: 0.6801 - accuracy: 0.8304 - val_loss: 0.6754 - val_accuracy: 0.8451\n",
      "Epoch 5/5\n",
      "18536/18536 - 4s - loss: 0.6695 - accuracy: 0.8603 - val_loss: 0.6620 - val_accuracy: 0.8825\n"
     ]
    },
    {
     "data": {
      "text/html": [
       "<span style=\"color:#4527A0\"><h1 style=\"font-size:18px\">Trial complete</h1></span>"
      ],
      "text/plain": [
       "<IPython.core.display.HTML object>"
      ]
     },
     "metadata": {},
     "output_type": "display_data"
    },
    {
     "data": {
      "text/html": [
       "<span style=\"color:#4527A0\"><h1 style=\"font-size:18px\">Trial summary</h1></span>"
      ],
      "text/plain": [
       "<IPython.core.display.HTML object>"
      ]
     },
     "metadata": {},
     "output_type": "display_data"
    },
    {
     "data": {
      "text/html": [
       "<span style=\"color:#7E57C2\"><h2 style=\"font-size:16px\">Hp values:</h2></span>"
      ],
      "text/plain": [
       "<IPython.core.display.HTML object>"
      ]
     },
     "metadata": {},
     "output_type": "display_data"
    },
    {
     "data": {
      "text/html": [
       "<span style=\"color:cyan\"> |-activation: relu</span>"
      ],
      "text/plain": [
       "<IPython.core.display.HTML object>"
      ]
     },
     "metadata": {},
     "output_type": "display_data"
    },
    {
     "data": {
      "text/html": [
       "<span style=\"color:blue\"> |-drop_rate: 0.2</span>"
      ],
      "text/plain": [
       "<IPython.core.display.HTML object>"
      ]
     },
     "metadata": {},
     "output_type": "display_data"
    },
    {
     "data": {
      "text/html": [
       "<span style=\"color:cyan\"> |-learning_rate: 0.001</span>"
      ],
      "text/plain": [
       "<IPython.core.display.HTML object>"
      ]
     },
     "metadata": {},
     "output_type": "display_data"
    },
    {
     "data": {
      "text/html": [
       "<span style=\"color:blue\"> |-num_layers: 14</span>"
      ],
      "text/plain": [
       "<IPython.core.display.HTML object>"
      ]
     },
     "metadata": {},
     "output_type": "display_data"
    },
    {
     "data": {
      "text/html": [
       "<span style=\"color:cyan\"> |-units: 128</span>"
      ],
      "text/plain": [
       "<IPython.core.display.HTML object>"
      ]
     },
     "metadata": {},
     "output_type": "display_data"
    },
    {
     "data": {
      "text/html": [
       "<span style=\"color:cyan\"> |-Score: 0.8367859125137329</span>"
      ],
      "text/plain": [
       "<IPython.core.display.HTML object>"
      ]
     },
     "metadata": {},
     "output_type": "display_data"
    },
    {
     "data": {
      "text/html": [
       "<span style=\"color:cyan\"> |-Best step: 0</span>"
      ],
      "text/plain": [
       "<IPython.core.display.HTML object>"
      ]
     },
     "metadata": {},
     "output_type": "display_data"
    },
    {
     "name": "stdout",
     "output_type": "stream",
     "text": [
      "Train on 18536 samples, validate on 12358 samples\n",
      "Epoch 1/5\n",
      "18536/18536 - 3s - loss: 0.6932 - accuracy: 0.5015 - val_loss: 0.6931 - val_accuracy: 0.4923\n",
      "Epoch 2/5\n",
      "18536/18536 - 2s - loss: 0.6926 - accuracy: 0.5068 - val_loss: 0.6925 - val_accuracy: 0.5022\n",
      "Epoch 3/5\n",
      "18536/18536 - 2s - loss: 0.6919 - accuracy: 0.5162 - val_loss: 0.6918 - val_accuracy: 0.5156\n",
      "Epoch 4/5\n",
      "18536/18536 - 2s - loss: 0.6912 - accuracy: 0.5358 - val_loss: 0.6911 - val_accuracy: 0.5380\n",
      "Epoch 5/5\n",
      "18536/18536 - 2s - loss: 0.6906 - accuracy: 0.5616 - val_loss: 0.6904 - val_accuracy: 0.5685\n",
      "Train on 18536 samples, validate on 12358 samples\n",
      "Epoch 1/5\n",
      "18536/18536 - 3s - loss: 0.6914 - accuracy: 0.5035 - val_loss: 0.6912 - val_accuracy: 0.4998\n",
      "Epoch 2/5\n",
      "18536/18536 - 2s - loss: 0.6905 - accuracy: 0.5220 - val_loss: 0.6902 - val_accuracy: 0.5255\n",
      "Epoch 3/5\n",
      "18536/18536 - 2s - loss: 0.6895 - accuracy: 0.5590 - val_loss: 0.6892 - val_accuracy: 0.5792\n",
      "Epoch 4/5\n",
      "18536/18536 - 2s - loss: 0.6885 - accuracy: 0.6196 - val_loss: 0.6882 - val_accuracy: 0.6493\n",
      "Epoch 5/5\n",
      "18536/18536 - 2s - loss: 0.6875 - accuracy: 0.6960 - val_loss: 0.6871 - val_accuracy: 0.7212\n",
      "Train on 18536 samples, validate on 12358 samples\n",
      "Epoch 1/5\n",
      "18536/18536 - 3s - loss: 0.6925 - accuracy: 0.5031 - val_loss: 0.6920 - val_accuracy: 0.5140\n",
      "Epoch 2/5\n",
      "18536/18536 - 2s - loss: 0.6920 - accuracy: 0.5046 - val_loss: 0.6915 - val_accuracy: 0.5160\n",
      "Epoch 3/5\n",
      "18536/18536 - 2s - loss: 0.6914 - accuracy: 0.5066 - val_loss: 0.6909 - val_accuracy: 0.5187\n",
      "Epoch 4/5\n",
      "18536/18536 - 2s - loss: 0.6909 - accuracy: 0.5102 - val_loss: 0.6904 - val_accuracy: 0.5228\n",
      "Epoch 5/5\n",
      "18536/18536 - 2s - loss: 0.6903 - accuracy: 0.5169 - val_loss: 0.6898 - val_accuracy: 0.5312\n",
      "Train on 18536 samples, validate on 12358 samples\n",
      "Epoch 1/5\n",
      "18536/18536 - 3s - loss: 0.6932 - accuracy: 0.5072 - val_loss: 0.6929 - val_accuracy: 0.5220\n",
      "Epoch 2/5\n",
      "18536/18536 - 2s - loss: 0.6929 - accuracy: 0.5207 - val_loss: 0.6926 - val_accuracy: 0.5371\n",
      "Epoch 3/5\n",
      "18536/18536 - 2s - loss: 0.6925 - accuracy: 0.5365 - val_loss: 0.6922 - val_accuracy: 0.5511\n",
      "Epoch 4/5\n",
      "18536/18536 - 2s - loss: 0.6922 - accuracy: 0.5530 - val_loss: 0.6919 - val_accuracy: 0.5671\n",
      "Epoch 5/5\n",
      "18536/18536 - 2s - loss: 0.6918 - accuracy: 0.5691 - val_loss: 0.6915 - val_accuracy: 0.5840\n",
      "Train on 18536 samples, validate on 12358 samples\n",
      "Epoch 1/5\n",
      "18536/18536 - 3s - loss: 0.6960 - accuracy: 0.3140 - val_loss: 0.6957 - val_accuracy: 0.3222\n",
      "Epoch 2/5\n",
      "18536/18536 - 2s - loss: 0.6955 - accuracy: 0.3431 - val_loss: 0.6952 - val_accuracy: 0.3558\n",
      "Epoch 3/5\n",
      "18536/18536 - 2s - loss: 0.6949 - accuracy: 0.3762 - val_loss: 0.6947 - val_accuracy: 0.3946\n",
      "Epoch 4/5\n",
      "18536/18536 - 2s - loss: 0.6944 - accuracy: 0.4096 - val_loss: 0.6941 - val_accuracy: 0.4291\n",
      "Epoch 5/5\n",
      "18536/18536 - 2s - loss: 0.6939 - accuracy: 0.4434 - val_loss: 0.6936 - val_accuracy: 0.4618\n"
     ]
    },
    {
     "data": {
      "text/html": [
       "<span style=\"color:#4527A0\"><h1 style=\"font-size:18px\">Trial complete</h1></span>"
      ],
      "text/plain": [
       "<IPython.core.display.HTML object>"
      ]
     },
     "metadata": {},
     "output_type": "display_data"
    },
    {
     "data": {
      "text/html": [
       "<span style=\"color:#4527A0\"><h1 style=\"font-size:18px\">Trial summary</h1></span>"
      ],
      "text/plain": [
       "<IPython.core.display.HTML object>"
      ]
     },
     "metadata": {},
     "output_type": "display_data"
    },
    {
     "data": {
      "text/html": [
       "<span style=\"color:#7E57C2\"><h2 style=\"font-size:16px\">Hp values:</h2></span>"
      ],
      "text/plain": [
       "<IPython.core.display.HTML object>"
      ]
     },
     "metadata": {},
     "output_type": "display_data"
    },
    {
     "data": {
      "text/html": [
       "<span style=\"color:cyan\"> |-activation: relu</span>"
      ],
      "text/plain": [
       "<IPython.core.display.HTML object>"
      ]
     },
     "metadata": {},
     "output_type": "display_data"
    },
    {
     "data": {
      "text/html": [
       "<span style=\"color:blue\"> |-drop_rate: 0.3</span>"
      ],
      "text/plain": [
       "<IPython.core.display.HTML object>"
      ]
     },
     "metadata": {},
     "output_type": "display_data"
    },
    {
     "data": {
      "text/html": [
       "<span style=\"color:cyan\"> |-learning_rate: 0.0001</span>"
      ],
      "text/plain": [
       "<IPython.core.display.HTML object>"
      ]
     },
     "metadata": {},
     "output_type": "display_data"
    },
    {
     "data": {
      "text/html": [
       "<span style=\"color:blue\"> |-num_layers: 8</span>"
      ],
      "text/plain": [
       "<IPython.core.display.HTML object>"
      ]
     },
     "metadata": {},
     "output_type": "display_data"
    },
    {
     "data": {
      "text/html": [
       "<span style=\"color:cyan\"> |-units: 160</span>"
      ],
      "text/plain": [
       "<IPython.core.display.HTML object>"
      ]
     },
     "metadata": {},
     "output_type": "display_data"
    },
    {
     "data": {
      "text/html": [
       "<span style=\"color:cyan\"> |-Score: 0.573328971862793</span>"
      ],
      "text/plain": [
       "<IPython.core.display.HTML object>"
      ]
     },
     "metadata": {},
     "output_type": "display_data"
    },
    {
     "data": {
      "text/html": [
       "<span style=\"color:cyan\"> |-Best step: 0</span>"
      ],
      "text/plain": [
       "<IPython.core.display.HTML object>"
      ]
     },
     "metadata": {},
     "output_type": "display_data"
    },
    {
     "name": "stdout",
     "output_type": "stream",
     "text": [
      "Train on 18536 samples, validate on 12358 samples\n",
      "Epoch 1/5\n",
      "18536/18536 - 4s - loss: 0.2692 - accuracy: 0.9039 - val_loss: 0.1589 - val_accuracy: 0.9350\n",
      "Epoch 2/5\n",
      "18536/18536 - 3s - loss: 0.1374 - accuracy: 0.9417 - val_loss: 0.1200 - val_accuracy: 0.9496\n",
      "Epoch 3/5\n",
      "18536/18536 - 3s - loss: 0.1080 - accuracy: 0.9546 - val_loss: 0.0990 - val_accuracy: 0.9561\n",
      "Epoch 4/5\n",
      "18536/18536 - 3s - loss: 0.0920 - accuracy: 0.9599 - val_loss: 0.0882 - val_accuracy: 0.9612\n",
      "Epoch 5/5\n",
      "18536/18536 - 3s - loss: 0.0829 - accuracy: 0.9625 - val_loss: 0.0826 - val_accuracy: 0.9629\n",
      "Train on 18536 samples, validate on 12358 samples\n",
      "Epoch 1/5\n",
      "18536/18536 - 4s - loss: 0.2502 - accuracy: 0.9083 - val_loss: 0.1528 - val_accuracy: 0.9364\n",
      "Epoch 2/5\n",
      "18536/18536 - 3s - loss: 0.1280 - accuracy: 0.9445 - val_loss: 0.1145 - val_accuracy: 0.9500\n",
      "Epoch 3/5\n",
      "18536/18536 - 3s - loss: 0.0994 - accuracy: 0.9565 - val_loss: 0.0948 - val_accuracy: 0.9587\n",
      "Epoch 4/5\n",
      "18536/18536 - 3s - loss: 0.0848 - accuracy: 0.9632 - val_loss: 0.0852 - val_accuracy: 0.9625\n",
      "Epoch 5/5\n",
      "18536/18536 - 3s - loss: 0.0776 - accuracy: 0.9652 - val_loss: 0.0819 - val_accuracy: 0.9630\n",
      "Train on 18536 samples, validate on 12358 samples\n",
      "Epoch 1/5\n",
      "18536/18536 - 3s - loss: 0.2577 - accuracy: 0.9024 - val_loss: 0.1594 - val_accuracy: 0.9335\n",
      "Epoch 2/5\n",
      "18536/18536 - 3s - loss: 0.1403 - accuracy: 0.9398 - val_loss: 0.1227 - val_accuracy: 0.9477\n",
      "Epoch 3/5\n",
      "18536/18536 - 3s - loss: 0.1095 - accuracy: 0.9529 - val_loss: 0.1004 - val_accuracy: 0.9591\n",
      "Epoch 4/5\n",
      "18536/18536 - 3s - loss: 0.0908 - accuracy: 0.9606 - val_loss: 0.0875 - val_accuracy: 0.9624\n",
      "Epoch 5/5\n",
      "18536/18536 - 3s - loss: 0.0810 - accuracy: 0.9644 - val_loss: 0.0814 - val_accuracy: 0.9638\n",
      "Train on 18536 samples, validate on 12358 samples\n",
      "Epoch 1/5\n",
      "18536/18536 - 3s - loss: 0.2323 - accuracy: 0.9246 - val_loss: 0.1493 - val_accuracy: 0.9386\n",
      "Epoch 2/5\n",
      "18536/18536 - 3s - loss: 0.1231 - accuracy: 0.9472 - val_loss: 0.1123 - val_accuracy: 0.9497\n",
      "Epoch 3/5\n",
      "18536/18536 - 3s - loss: 0.0969 - accuracy: 0.9591 - val_loss: 0.0921 - val_accuracy: 0.9586\n",
      "Epoch 4/5\n",
      "18536/18536 - 3s - loss: 0.0828 - accuracy: 0.9635 - val_loss: 0.0822 - val_accuracy: 0.9629\n",
      "Epoch 5/5\n",
      "18536/18536 - 3s - loss: 0.0762 - accuracy: 0.9655 - val_loss: 0.0776 - val_accuracy: 0.9638\n",
      "Train on 18536 samples, validate on 12358 samples\n",
      "Epoch 1/5\n",
      "18536/18536 - 3s - loss: 0.2618 - accuracy: 0.8954 - val_loss: 0.1662 - val_accuracy: 0.9290\n",
      "Epoch 2/5\n",
      "18536/18536 - 3s - loss: 0.1450 - accuracy: 0.9364 - val_loss: 0.1293 - val_accuracy: 0.9429\n",
      "Epoch 3/5\n",
      "18536/18536 - 2s - loss: 0.1124 - accuracy: 0.9492 - val_loss: 0.1043 - val_accuracy: 0.9520\n",
      "Epoch 4/5\n",
      "18536/18536 - 3s - loss: 0.0922 - accuracy: 0.9587 - val_loss: 0.0901 - val_accuracy: 0.9599\n",
      "Epoch 5/5\n",
      "18536/18536 - 3s - loss: 0.0820 - accuracy: 0.9624 - val_loss: 0.0836 - val_accuracy: 0.9620\n"
     ]
    },
    {
     "data": {
      "text/html": [
       "<span style=\"color:#4527A0\"><h1 style=\"font-size:18px\">Trial complete</h1></span>"
      ],
      "text/plain": [
       "<IPython.core.display.HTML object>"
      ]
     },
     "metadata": {},
     "output_type": "display_data"
    },
    {
     "data": {
      "text/html": [
       "<span style=\"color:#4527A0\"><h1 style=\"font-size:18px\">Trial summary</h1></span>"
      ],
      "text/plain": [
       "<IPython.core.display.HTML object>"
      ]
     },
     "metadata": {},
     "output_type": "display_data"
    },
    {
     "data": {
      "text/html": [
       "<span style=\"color:#7E57C2\"><h2 style=\"font-size:16px\">Hp values:</h2></span>"
      ],
      "text/plain": [
       "<IPython.core.display.HTML object>"
      ]
     },
     "metadata": {},
     "output_type": "display_data"
    },
    {
     "data": {
      "text/html": [
       "<span style=\"color:cyan\"> |-activation: tanh</span>"
      ],
      "text/plain": [
       "<IPython.core.display.HTML object>"
      ]
     },
     "metadata": {},
     "output_type": "display_data"
    },
    {
     "data": {
      "text/html": [
       "<span style=\"color:blue\"> |-drop_rate: 0.4</span>"
      ],
      "text/plain": [
       "<IPython.core.display.HTML object>"
      ]
     },
     "metadata": {},
     "output_type": "display_data"
    },
    {
     "data": {
      "text/html": [
       "<span style=\"color:cyan\"> |-learning_rate: 0.001</span>"
      ],
      "text/plain": [
       "<IPython.core.display.HTML object>"
      ]
     },
     "metadata": {},
     "output_type": "display_data"
    },
    {
     "data": {
      "text/html": [
       "<span style=\"color:blue\"> |-num_layers: 11</span>"
      ],
      "text/plain": [
       "<IPython.core.display.HTML object>"
      ]
     },
     "metadata": {},
     "output_type": "display_data"
    },
    {
     "data": {
      "text/html": [
       "<span style=\"color:cyan\"> |-units: 128</span>"
      ],
      "text/plain": [
       "<IPython.core.display.HTML object>"
      ]
     },
     "metadata": {},
     "output_type": "display_data"
    },
    {
     "data": {
      "text/html": [
       "<span style=\"color:cyan\"> |-Score: 0.9631170034408569</span>"
      ],
      "text/plain": [
       "<IPython.core.display.HTML object>"
      ]
     },
     "metadata": {},
     "output_type": "display_data"
    },
    {
     "data": {
      "text/html": [
       "<span style=\"color:cyan\"> |-Best step: 0</span>"
      ],
      "text/plain": [
       "<IPython.core.display.HTML object>"
      ]
     },
     "metadata": {},
     "output_type": "display_data"
    },
    {
     "name": "stdout",
     "output_type": "stream",
     "text": [
      "Train on 18536 samples, validate on 12358 samples\n",
      "Epoch 1/5\n",
      "18536/18536 - 3s - loss: 0.1223 - accuracy: 0.9498 - val_loss: 0.0833 - val_accuracy: 0.9616\n",
      "Epoch 2/5\n",
      "18536/18536 - 2s - loss: 0.0765 - accuracy: 0.9680 - val_loss: 0.0739 - val_accuracy: 0.9681\n",
      "Epoch 3/5\n",
      "18536/18536 - 3s - loss: 0.0716 - accuracy: 0.9682 - val_loss: 0.0737 - val_accuracy: 0.9679\n",
      "Epoch 4/5\n",
      "18536/18536 - 3s - loss: 0.0684 - accuracy: 0.9702 - val_loss: 0.0827 - val_accuracy: 0.9629\n",
      "Epoch 5/5\n",
      "18536/18536 - 3s - loss: 0.0661 - accuracy: 0.9700 - val_loss: 0.0716 - val_accuracy: 0.9675\n",
      "Train on 18536 samples, validate on 12358 samples\n",
      "Epoch 1/5\n",
      "18536/18536 - 4s - loss: 0.1189 - accuracy: 0.9507 - val_loss: 0.0833 - val_accuracy: 0.9631\n",
      "Epoch 2/5\n",
      "18536/18536 - 3s - loss: 0.0765 - accuracy: 0.9668 - val_loss: 0.0791 - val_accuracy: 0.9643\n",
      "Epoch 3/5\n",
      "18536/18536 - 3s - loss: 0.0704 - accuracy: 0.9675 - val_loss: 0.0816 - val_accuracy: 0.9637\n",
      "Epoch 4/5\n",
      "18536/18536 - 3s - loss: 0.0679 - accuracy: 0.9696 - val_loss: 0.0776 - val_accuracy: 0.9642\n",
      "Epoch 5/5\n",
      "18536/18536 - 3s - loss: 0.0649 - accuracy: 0.9712 - val_loss: 0.0835 - val_accuracy: 0.9634\n",
      "Train on 18536 samples, validate on 12358 samples\n",
      "Epoch 1/5\n",
      "18536/18536 - 3s - loss: 0.1118 - accuracy: 0.9540 - val_loss: 0.0997 - val_accuracy: 0.9616\n",
      "Epoch 2/5\n",
      "18536/18536 - 2s - loss: 0.0770 - accuracy: 0.9659 - val_loss: 0.0816 - val_accuracy: 0.9640\n",
      "Epoch 3/5\n",
      "18536/18536 - 3s - loss: 0.0718 - accuracy: 0.9663 - val_loss: 0.0780 - val_accuracy: 0.9649\n",
      "Epoch 4/5\n",
      "18536/18536 - 3s - loss: 0.0683 - accuracy: 0.9699 - val_loss: 0.0851 - val_accuracy: 0.9643\n",
      "Epoch 5/5\n",
      "18536/18536 - 3s - loss: 0.0656 - accuracy: 0.9700 - val_loss: 0.0768 - val_accuracy: 0.9659\n",
      "Train on 18536 samples, validate on 12358 samples\n",
      "Epoch 1/5\n",
      "18536/18536 - 3s - loss: 0.1255 - accuracy: 0.9448 - val_loss: 0.0823 - val_accuracy: 0.9646\n",
      "Epoch 2/5\n",
      "18536/18536 - 2s - loss: 0.0784 - accuracy: 0.9649 - val_loss: 0.0780 - val_accuracy: 0.9653\n",
      "Epoch 3/5\n",
      "18536/18536 - 3s - loss: 0.0720 - accuracy: 0.9674 - val_loss: 0.0816 - val_accuracy: 0.9633\n",
      "Epoch 4/5\n",
      "18536/18536 - 2s - loss: 0.0690 - accuracy: 0.9683 - val_loss: 0.0775 - val_accuracy: 0.9671\n",
      "Epoch 5/5\n",
      "18536/18536 - 2s - loss: 0.0651 - accuracy: 0.9701 - val_loss: 0.0847 - val_accuracy: 0.9618\n",
      "Train on 18536 samples, validate on 12358 samples\n",
      "Epoch 1/5\n",
      "18536/18536 - 3s - loss: 0.1200 - accuracy: 0.9491 - val_loss: 0.0824 - val_accuracy: 0.9624\n",
      "Epoch 2/5\n",
      "18536/18536 - 3s - loss: 0.0773 - accuracy: 0.9656 - val_loss: 0.0797 - val_accuracy: 0.9637\n",
      "Epoch 3/5\n",
      "18536/18536 - 3s - loss: 0.0716 - accuracy: 0.9675 - val_loss: 0.0749 - val_accuracy: 0.9664\n",
      "Epoch 4/5\n",
      "18536/18536 - 2s - loss: 0.0689 - accuracy: 0.9697 - val_loss: 0.0799 - val_accuracy: 0.9646\n",
      "Epoch 5/5\n",
      "18536/18536 - 3s - loss: 0.0650 - accuracy: 0.9709 - val_loss: 0.0775 - val_accuracy: 0.9642\n"
     ]
    },
    {
     "data": {
      "text/html": [
       "<span style=\"color:#4527A0\"><h1 style=\"font-size:18px\">Trial complete</h1></span>"
      ],
      "text/plain": [
       "<IPython.core.display.HTML object>"
      ]
     },
     "metadata": {},
     "output_type": "display_data"
    },
    {
     "data": {
      "text/html": [
       "<span style=\"color:#4527A0\"><h1 style=\"font-size:18px\">Trial summary</h1></span>"
      ],
      "text/plain": [
       "<IPython.core.display.HTML object>"
      ]
     },
     "metadata": {},
     "output_type": "display_data"
    },
    {
     "data": {
      "text/html": [
       "<span style=\"color:#7E57C2\"><h2 style=\"font-size:16px\">Hp values:</h2></span>"
      ],
      "text/plain": [
       "<IPython.core.display.HTML object>"
      ]
     },
     "metadata": {},
     "output_type": "display_data"
    },
    {
     "data": {
      "text/html": [
       "<span style=\"color:cyan\"> |-activation: tanh</span>"
      ],
      "text/plain": [
       "<IPython.core.display.HTML object>"
      ]
     },
     "metadata": {},
     "output_type": "display_data"
    },
    {
     "data": {
      "text/html": [
       "<span style=\"color:blue\"> |-drop_rate: 0.1</span>"
      ],
      "text/plain": [
       "<IPython.core.display.HTML object>"
      ]
     },
     "metadata": {},
     "output_type": "display_data"
    },
    {
     "data": {
      "text/html": [
       "<span style=\"color:cyan\"> |-learning_rate: 0.01</span>"
      ],
      "text/plain": [
       "<IPython.core.display.HTML object>"
      ]
     },
     "metadata": {},
     "output_type": "display_data"
    },
    {
     "data": {
      "text/html": [
       "<span style=\"color:blue\"> |-num_layers: 10</span>"
      ],
      "text/plain": [
       "<IPython.core.display.HTML object>"
      ]
     },
     "metadata": {},
     "output_type": "display_data"
    },
    {
     "data": {
      "text/html": [
       "<span style=\"color:cyan\"> |-units: 96</span>"
      ],
      "text/plain": [
       "<IPython.core.display.HTML object>"
      ]
     },
     "metadata": {},
     "output_type": "display_data"
    },
    {
     "data": {
      "text/html": [
       "<span style=\"color:cyan\"> |-Score: 0.9663699865341187</span>"
      ],
      "text/plain": [
       "<IPython.core.display.HTML object>"
      ]
     },
     "metadata": {},
     "output_type": "display_data"
    },
    {
     "data": {
      "text/html": [
       "<span style=\"color:cyan\"> |-Best step: 0</span>"
      ],
      "text/plain": [
       "<IPython.core.display.HTML object>"
      ]
     },
     "metadata": {},
     "output_type": "display_data"
    },
    {
     "name": "stdout",
     "output_type": "stream",
     "text": [
      "INFO:tensorflow:Oracle triggered exit\n"
     ]
    },
    {
     "data": {
      "text/html": [
       "<span style=\"color:#4527A0\"><h1 style=\"font-size:18px\">Results summary</h1></span>"
      ],
      "text/plain": [
       "<IPython.core.display.HTML object>"
      ]
     },
     "metadata": {},
     "output_type": "display_data"
    },
    {
     "data": {
      "text/html": [
       "<span style=\"color:cyan\"> |-Results in ./lol</span>"
      ],
      "text/plain": [
       "<IPython.core.display.HTML object>"
      ]
     },
     "metadata": {},
     "output_type": "display_data"
    },
    {
     "data": {
      "text/html": [
       "<span style=\"color:cyan\"> |-Showing 10 best trials</span>"
      ],
      "text/plain": [
       "<IPython.core.display.HTML object>"
      ]
     },
     "metadata": {},
     "output_type": "display_data"
    },
    {
     "data": {
      "text/html": [
       "<span style=\"color:cyan\"> |-Objective: Objective(name='val_accuracy', direction='max') Score: 0.967923641204834</span>"
      ],
      "text/plain": [
       "<IPython.core.display.HTML object>"
      ]
     },
     "metadata": {},
     "output_type": "display_data"
    },
    {
     "data": {
      "text/html": [
       "<span style=\"color:cyan\"> |-Objective: Objective(name='val_accuracy', direction='max') Score: 0.9663699865341187</span>"
      ],
      "text/plain": [
       "<IPython.core.display.HTML object>"
      ]
     },
     "metadata": {},
     "output_type": "display_data"
    },
    {
     "data": {
      "text/html": [
       "<span style=\"color:cyan\"> |-Objective: Objective(name='val_accuracy', direction='max') Score: 0.9631170034408569</span>"
      ],
      "text/plain": [
       "<IPython.core.display.HTML object>"
      ]
     },
     "metadata": {},
     "output_type": "display_data"
    },
    {
     "data": {
      "text/html": [
       "<span style=\"color:cyan\"> |-Objective: Objective(name='val_accuracy', direction='max') Score: 0.8367859125137329</span>"
      ],
      "text/plain": [
       "<IPython.core.display.HTML object>"
      ]
     },
     "metadata": {},
     "output_type": "display_data"
    },
    {
     "data": {
      "text/html": [
       "<span style=\"color:cyan\"> |-Objective: Objective(name='val_accuracy', direction='max') Score: 0.573328971862793</span>"
      ],
      "text/plain": [
       "<IPython.core.display.HTML object>"
      ]
     },
     "metadata": {},
     "output_type": "display_data"
    }
   ],
   "source": [
    "tuner = RandomSearch(\n",
    "    build_model,\n",
    "    objective=('val_accuracy'),\n",
    "    max_trials=5,\n",
    "    executions_per_trial=5,\n",
    "    project_name='lol')\n",
    "\n",
    "tuner.search(X_train, Y_train,\n",
    "             epochs=5,\n",
    "             validation_split=0.4,verbose = 2)\n",
    "\n",
    "tuner.results_summary()"
   ]
  },
  {
   "cell_type": "code",
   "execution_count": 71,
   "metadata": {},
   "outputs": [
    {
     "data": {
      "text/plain": [
       "[<tensorflow.python.keras.layers.core.Dense at 0x1a40816290>,\n",
       " <tensorflow.python.keras.layers.core.Dense at 0x1a40984c10>,\n",
       " <tensorflow.python.keras.layers.core.Dense at 0x1a408f3310>,\n",
       " <tensorflow.python.keras.layers.core.Dense at 0x1a37bedf10>,\n",
       " <tensorflow.python.keras.layers.core.Dense at 0x1a35d73cd0>,\n",
       " <tensorflow.python.keras.layers.core.Dense at 0x1a35d73510>,\n",
       " <tensorflow.python.keras.layers.core.Dense at 0x1a35d73390>,\n",
       " <tensorflow.python.keras.layers.core.Dense at 0x1a386d0e50>,\n",
       " <tensorflow.python.keras.layers.core.Dense at 0x1a386d0b50>,\n",
       " <tensorflow.python.keras.layers.core.Dense at 0x1a35d737d0>]"
      ]
     },
     "execution_count": 71,
     "metadata": {},
     "output_type": "execute_result"
    }
   ],
   "source": [
    "model.layers"
   ]
  },
  {
   "cell_type": "code",
   "execution_count": 106,
   "metadata": {},
   "outputs": [
    {
     "name": "stdout",
     "output_type": "stream",
     "text": [
      "WARNING:tensorflow:Unresolved object in checkpoint: (root).optimizer.iter\n",
      "WARNING:tensorflow:Unresolved object in checkpoint: (root).optimizer.decay\n",
      "WARNING:tensorflow:Unresolved object in checkpoint: (root).optimizer.learning_rate\n",
      "WARNING:tensorflow:Unresolved object in checkpoint: (root).optimizer.momentum\n",
      "WARNING:tensorflow:A checkpoint was restored (e.g. tf.train.Checkpoint.restore or tf.keras.Model.load_weights) but not all checkpointed values were used. See above for specific issues. Use expect_partial() on the load status object, e.g. tf.train.Checkpoint.restore(...).expect_partial(), to silence these warnings, or use assert_consumed() to make the check explicit. See https://www.tensorflow.org/alpha/guide/checkpoints#loading_mechanics for details.\n"
     ]
    }
   ],
   "source": [
    "\n",
    "model = tuner.get_best_models(num_models=1)[0]\n",
    "\n",
    "#loss, accuracy = model.evaluate(X_test, Y_test)\n",
    "\n",
    "Y_pred_nn = model.predict(X_test)"
   ]
  },
  {
   "cell_type": "code",
   "execution_count": 107,
   "metadata": {},
   "outputs": [
    {
     "name": "stdout",
     "output_type": "stream",
     "text": [
      "AUC based on probab: 0.997320927918187\n"
     ]
    }
   ],
   "source": [
    "print('AUC based on probab:',roc_auc_score(Y_test,Y_pred_nn))"
   ]
  },
  {
   "cell_type": "code",
   "execution_count": 110,
   "metadata": {},
   "outputs": [],
   "source": [
    "# transform probab output to binary class \n",
    "\n",
    "Y_pred_nn_class = np.where(Y_pred_nn>=0.5,1,0)"
   ]
  },
  {
   "cell_type": "markdown",
   "metadata": {},
   "source": [
    "model comparison"
   ]
  },
  {
   "cell_type": "code",
   "execution_count": 125,
   "metadata": {},
   "outputs": [
    {
     "data": {
      "text/html": [
       "<div>\n",
       "<style scoped>\n",
       "    .dataframe tbody tr th:only-of-type {\n",
       "        vertical-align: middle;\n",
       "    }\n",
       "\n",
       "    .dataframe tbody tr th {\n",
       "        vertical-align: top;\n",
       "    }\n",
       "\n",
       "    .dataframe thead th {\n",
       "        text-align: right;\n",
       "    }\n",
       "</style>\n",
       "<table border=\"1\" class=\"dataframe\">\n",
       "  <thead>\n",
       "    <tr style=\"text-align: right;\">\n",
       "      <th></th>\n",
       "      <th>Model</th>\n",
       "      <th>Test_auc</th>\n",
       "      <th>F1_score</th>\n",
       "    </tr>\n",
       "  </thead>\n",
       "  <tbody>\n",
       "    <tr>\n",
       "      <td>0</td>\n",
       "      <td>knn</td>\n",
       "      <td>0.960969</td>\n",
       "      <td>0.961424</td>\n",
       "    </tr>\n",
       "    <tr>\n",
       "      <td>1</td>\n",
       "      <td>Random Forest</td>\n",
       "      <td>0.961238</td>\n",
       "      <td>0.961778</td>\n",
       "    </tr>\n",
       "    <tr>\n",
       "      <td>2</td>\n",
       "      <td>Neural Network</td>\n",
       "      <td>0.970259</td>\n",
       "      <td>0.970867</td>\n",
       "    </tr>\n",
       "  </tbody>\n",
       "</table>\n",
       "</div>"
      ],
      "text/plain": [
       "            Model  Test_auc  F1_score\n",
       "0             knn  0.960969  0.961424\n",
       "1   Random Forest  0.961238  0.961778\n",
       "2  Neural Network  0.970259  0.970867"
      ]
     },
     "execution_count": 125,
     "metadata": {},
     "output_type": "execute_result"
    }
   ],
   "source": [
    "# compare based on the output class for test auc and f1\n",
    "\n",
    "com = pd.DataFrame({'Model':['knn','Random Forest','Neural Network'], \n",
    "                    'Test_auc':[auc(roc_curve(Y_test, Y_pred_knn)[0],roc_curve(Y_test, Y_pred_knn)[1]), \n",
    "                                auc(roc_curve(Y_test, Y_pred_rf)[0],roc_curve(Y_test, Y_pred_rf)[1]),\n",
    "                                roc_auc_score(Y_test,Y_pred_nn_class)],\n",
    "                    'F1_score':[f1_score(Y_test, Y_pred_knn),\n",
    "                                f1_score(Y_test, Y_pred_rf),\n",
    "                                f1_score(Y_test, Y_pred_nn_class)]})\n",
    "com"
   ]
  },
  {
   "cell_type": "markdown",
   "metadata": {},
   "source": [
    "# Best model: Neural Network "
   ]
  }
 ],
 "metadata": {
  "kernelspec": {
   "display_name": "Python 3",
   "language": "python",
   "name": "python3"
  },
  "language_info": {
   "codemirror_mode": {
    "name": "ipython",
    "version": 3
   },
   "file_extension": ".py",
   "mimetype": "text/x-python",
   "name": "python",
   "nbconvert_exporter": "python",
   "pygments_lexer": "ipython3",
   "version": "3.7.4"
  }
 },
 "nbformat": 4,
 "nbformat_minor": 2
}
